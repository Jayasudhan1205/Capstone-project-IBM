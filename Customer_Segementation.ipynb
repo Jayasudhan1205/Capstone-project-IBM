{
  "nbformat": 4,
  "nbformat_minor": 0,
  "metadata": {
    "colab": {
      "name": "Customer_Segementation.ipynb",
      "provenance": []
    },
    "kernelspec": {
      "display_name": "Python 3",
      "name": "python3"
    }
  },
  "cells": [
    {
      "cell_type": "code",
      "metadata": {
        "id": "H9NTYYwHhEtq"
      },
      "source": [
        "%matplotlib inline\r\n",
        "import numpy as np\r\n",
        "import pandas as pd\r\n",
        "import matplotlib.pyplot as plt"
      ],
      "execution_count": null,
      "outputs": []
    },
    {
      "cell_type": "code",
      "metadata": {
        "colab": {
          "base_uri": "https://localhost:8080/",
          "height": 343
        },
        "id": "Jj7A5vE_hMRL",
        "outputId": "4e253fd3-0260-4eab-c17a-f758da6cf6df"
      },
      "source": [
        "Rtl_data = pd.read_csv('/content/jsu sail (1).csv', encoding = 'unicode_escape')\r\n",
        "Rtl_data.head()"
      ],
      "execution_count": null,
      "outputs": [
        {
          "output_type": "execute_result",
          "data": {
            "text/html": [
              "<div>\n",
              "<style scoped>\n",
              "    .dataframe tbody tr th:only-of-type {\n",
              "        vertical-align: middle;\n",
              "    }\n",
              "\n",
              "    .dataframe tbody tr th {\n",
              "        vertical-align: top;\n",
              "    }\n",
              "\n",
              "    .dataframe thead th {\n",
              "        text-align: right;\n",
              "    }\n",
              "</style>\n",
              "<table border=\"1\" class=\"dataframe\">\n",
              "  <thead>\n",
              "    <tr style=\"text-align: right;\">\n",
              "      <th></th>\n",
              "      <th>SL.NO</th>\n",
              "      <th>D.O.P</th>\n",
              "      <th>CUSTOMER ID</th>\n",
              "      <th>INDUSTRY NAME</th>\n",
              "      <th>INDUSTRY TYPE</th>\n",
              "      <th>UNITS_PURCHASED (TONS)</th>\n",
              "      <th>TOTAL AMOUNT</th>\n",
              "      <th>AREA</th>\n",
              "      <th>BRANCH CONTACTED</th>\n",
              "      <th>TYPE</th>\n",
              "      <th>THICKNESS</th>\n",
              "      <th>Unnamed: 11</th>\n",
              "    </tr>\n",
              "  </thead>\n",
              "  <tbody>\n",
              "    <tr>\n",
              "      <th>0</th>\n",
              "      <td>1</td>\n",
              "      <td>2020-01-02</td>\n",
              "      <td>110251</td>\n",
              "      <td>Sharma and co.</td>\n",
              "      <td>Funiture Manufacturers</td>\n",
              "      <td>50</td>\n",
              "      <td>9000000</td>\n",
              "      <td>DELHI</td>\n",
              "      <td>DELHI</td>\n",
              "      <td>Coil</td>\n",
              "      <td>0.60</td>\n",
              "      <td>NaN</td>\n",
              "    </tr>\n",
              "    <tr>\n",
              "      <th>1</th>\n",
              "      <td>2</td>\n",
              "      <td>2020-01-03</td>\n",
              "      <td>110252</td>\n",
              "      <td>SSM and co.</td>\n",
              "      <td>Automobiles</td>\n",
              "      <td>80</td>\n",
              "      <td>14400000</td>\n",
              "      <td>TAMIL NADU</td>\n",
              "      <td>CHENNAI</td>\n",
              "      <td>Sheet</td>\n",
              "      <td>0.55</td>\n",
              "      <td>NaN</td>\n",
              "    </tr>\n",
              "    <tr>\n",
              "      <th>2</th>\n",
              "      <td>3</td>\n",
              "      <td>2020-01-05</td>\n",
              "      <td>110253</td>\n",
              "      <td>Amman and co.</td>\n",
              "      <td>Steel Manufacturers</td>\n",
              "      <td>120</td>\n",
              "      <td>21600000</td>\n",
              "      <td>TAMIL NADU</td>\n",
              "      <td>COIMBATORE</td>\n",
              "      <td>Coil</td>\n",
              "      <td>0.50</td>\n",
              "      <td>NaN</td>\n",
              "    </tr>\n",
              "    <tr>\n",
              "      <th>3</th>\n",
              "      <td>4</td>\n",
              "      <td>2020-01-07</td>\n",
              "      <td>110254</td>\n",
              "      <td>Vasanth and co.</td>\n",
              "      <td>Electronics</td>\n",
              "      <td>60</td>\n",
              "      <td>10800000</td>\n",
              "      <td>ANDHRA PRADESH</td>\n",
              "      <td>HYDERABAD</td>\n",
              "      <td>Coil</td>\n",
              "      <td>0.55</td>\n",
              "      <td>NaN</td>\n",
              "    </tr>\n",
              "    <tr>\n",
              "      <th>4</th>\n",
              "      <td>5</td>\n",
              "      <td>2020-01-07</td>\n",
              "      <td>110255</td>\n",
              "      <td>Alfin Steel industries</td>\n",
              "      <td>Electronics</td>\n",
              "      <td>70</td>\n",
              "      <td>12600000</td>\n",
              "      <td>KERALA</td>\n",
              "      <td>COIMBATORE</td>\n",
              "      <td>Sheet</td>\n",
              "      <td>0.60</td>\n",
              "      <td>NaN</td>\n",
              "    </tr>\n",
              "  </tbody>\n",
              "</table>\n",
              "</div>"
            ],
            "text/plain": [
              "   SL.NO       D.O.P  CUSTOMER ID  ...   TYPE THICKNESS  Unnamed: 11\n",
              "0      1  2020-01-02       110251  ...   Coil      0.60          NaN\n",
              "1      2  2020-01-03       110252  ...  Sheet      0.55          NaN\n",
              "2      3  2020-01-05       110253  ...   Coil      0.50          NaN\n",
              "3      4  2020-01-07       110254  ...   Coil      0.55          NaN\n",
              "4      5  2020-01-07       110255  ...  Sheet      0.60          NaN\n",
              "\n",
              "[5 rows x 12 columns]"
            ]
          },
          "metadata": {
            "tags": []
          },
          "execution_count": 3
        }
      ]
    },
    {
      "cell_type": "code",
      "metadata": {
        "colab": {
          "base_uri": "https://localhost:8080/"
        },
        "id": "E8ORy8lyhPdN",
        "outputId": "93dd8f63-9515-4f96-e77a-560bb68baa72"
      },
      "source": [
        "Rtl_data.shape"
      ],
      "execution_count": null,
      "outputs": [
        {
          "output_type": "execute_result",
          "data": {
            "text/plain": [
              "(700, 12)"
            ]
          },
          "metadata": {
            "tags": []
          },
          "execution_count": 4
        }
      ]
    },
    {
      "cell_type": "code",
      "metadata": {
        "colab": {
          "base_uri": "https://localhost:8080/"
        },
        "id": "H9HnVAjRh_PO",
        "outputId": "e74c6ffe-9433-46be-9aba-5394add0a40d"
      },
      "source": [
        "Rtl_data['CUSTOMER ID'].unique().shape"
      ],
      "execution_count": null,
      "outputs": [
        {
          "output_type": "execute_result",
          "data": {
            "text/plain": [
              "(160,)"
            ]
          },
          "metadata": {
            "tags": []
          },
          "execution_count": 5
        }
      ]
    },
    {
      "cell_type": "code",
      "metadata": {
        "id": "Vxs8ETGmiB8w"
      },
      "source": [
        "Rtl_data['D.O.P'] = pd.to_datetime(Rtl_data['D.O.P'])"
      ],
      "execution_count": null,
      "outputs": []
    },
    {
      "cell_type": "code",
      "metadata": {
        "id": "Xucwuk1EiFp7"
      },
      "source": [
        "import datetime as dt"
      ],
      "execution_count": null,
      "outputs": []
    },
    {
      "cell_type": "code",
      "metadata": {
        "id": "B_AFcwN3iKfd"
      },
      "source": [
        "Latest_Date = dt.datetime(2020,7,31)"
      ],
      "execution_count": null,
      "outputs": []
    },
    {
      "cell_type": "code",
      "metadata": {
        "id": "aCMuGPdbiL72"
      },
      "source": [
        "RFMScores = Rtl_data.groupby('CUSTOMER ID').agg({'D.O.P': lambda x: (Latest_Date - x.max()).days, 'CUSTOMER ID': lambda x: len(x), 'TOTAL AMOUNT': lambda x: x.sum()})\r\n",
        "RFMScores['D.O.P'] = RFMScores['D.O.P'].astype(int)"
      ],
      "execution_count": null,
      "outputs": []
    },
    {
      "cell_type": "code",
      "metadata": {
        "colab": {
          "base_uri": "https://localhost:8080/",
          "height": 202
        },
        "id": "9INQR15QiPUH",
        "outputId": "588fb779-3db2-426a-97dd-54305dd6d10c"
      },
      "source": [
        "RFMScores.rename(columns={'D.O.P': 'Recency', \r\n",
        "                         'CUSTOMER ID': 'Frequency', \r\n",
        "                         'TOTAL AMOUNT': 'Monetary'}, inplace=True)\r\n",
        "\r\n",
        "RFMScores.reset_index().head()"
      ],
      "execution_count": null,
      "outputs": [
        {
          "output_type": "execute_result",
          "data": {
            "text/html": [
              "<div>\n",
              "<style scoped>\n",
              "    .dataframe tbody tr th:only-of-type {\n",
              "        vertical-align: middle;\n",
              "    }\n",
              "\n",
              "    .dataframe tbody tr th {\n",
              "        vertical-align: top;\n",
              "    }\n",
              "\n",
              "    .dataframe thead th {\n",
              "        text-align: right;\n",
              "    }\n",
              "</style>\n",
              "<table border=\"1\" class=\"dataframe\">\n",
              "  <thead>\n",
              "    <tr style=\"text-align: right;\">\n",
              "      <th></th>\n",
              "      <th>CUSTOMER ID</th>\n",
              "      <th>Recency</th>\n",
              "      <th>Frequency</th>\n",
              "      <th>Monetary</th>\n",
              "    </tr>\n",
              "  </thead>\n",
              "  <tbody>\n",
              "    <tr>\n",
              "      <th>0</th>\n",
              "      <td>110032</td>\n",
              "      <td>6</td>\n",
              "      <td>7</td>\n",
              "      <td>54540000</td>\n",
              "    </tr>\n",
              "    <tr>\n",
              "      <th>1</th>\n",
              "      <td>110033</td>\n",
              "      <td>6</td>\n",
              "      <td>7</td>\n",
              "      <td>100260000</td>\n",
              "    </tr>\n",
              "    <tr>\n",
              "      <th>2</th>\n",
              "      <td>110034</td>\n",
              "      <td>6</td>\n",
              "      <td>7</td>\n",
              "      <td>116820000</td>\n",
              "    </tr>\n",
              "    <tr>\n",
              "      <th>3</th>\n",
              "      <td>110035</td>\n",
              "      <td>5</td>\n",
              "      <td>7</td>\n",
              "      <td>99360000</td>\n",
              "    </tr>\n",
              "    <tr>\n",
              "      <th>4</th>\n",
              "      <td>110036</td>\n",
              "      <td>5</td>\n",
              "      <td>7</td>\n",
              "      <td>68400000</td>\n",
              "    </tr>\n",
              "  </tbody>\n",
              "</table>\n",
              "</div>"
            ],
            "text/plain": [
              "   CUSTOMER ID  Recency  Frequency   Monetary\n",
              "0       110032        6          7   54540000\n",
              "1       110033        6          7  100260000\n",
              "2       110034        6          7  116820000\n",
              "3       110035        5          7   99360000\n",
              "4       110036        5          7   68400000"
            ]
          },
          "metadata": {
            "tags": []
          },
          "execution_count": 12
        }
      ]
    },
    {
      "cell_type": "code",
      "metadata": {
        "colab": {
          "base_uri": "https://localhost:8080/"
        },
        "id": "yloLxjtriR-B",
        "outputId": "dff37b7d-c2a3-41e7-f9b1-71e75d20d2db"
      },
      "source": [
        "RFMScores.Recency.describe()"
      ],
      "execution_count": null,
      "outputs": [
        {
          "output_type": "execute_result",
          "data": {
            "text/plain": [
              "count    160.000000\n",
              "mean      26.806250\n",
              "std       21.644787\n",
              "min        0.000000\n",
              "25%       12.000000\n",
              "50%       24.000000\n",
              "75%       38.000000\n",
              "max      179.000000\n",
              "Name: Recency, dtype: float64"
            ]
          },
          "metadata": {
            "tags": []
          },
          "execution_count": 14
        }
      ]
    },
    {
      "cell_type": "code",
      "metadata": {
        "colab": {
          "base_uri": "https://localhost:8080/",
          "height": 338
        },
        "id": "mybLuNAsiUh1",
        "outputId": "54b0f4f4-ee57-4397-fe5f-1c98ea315497"
      },
      "source": [
        "import seaborn as sns\r\n",
        "x = RFMScores['Recency']\r\n",
        "\r\n",
        "ax = sns.distplot(x)"
      ],
      "execution_count": null,
      "outputs": [
        {
          "output_type": "stream",
          "text": [
            "/usr/local/lib/python3.6/dist-packages/seaborn/distributions.py:2557: FutureWarning: `distplot` is a deprecated function and will be removed in a future version. Please adapt your code to use either `displot` (a figure-level function with similar flexibility) or `histplot` (an axes-level function for histograms).\n",
            "  warnings.warn(msg, FutureWarning)\n"
          ],
          "name": "stderr"
        },
        {
          "output_type": "display_data",
          "data": {
            "image/png": "[encoded data removed]",
            "text/plain": [
              "<Figure size 432x288 with 1 Axes>"
            ]
          },
          "metadata": {
            "tags": []
          }
        }
      ]
    },
    {
      "cell_type": "code",
      "metadata": {
        "colab": {
          "base_uri": "https://localhost:8080/"
        },
        "id": "iWC5eujziZQ-",
        "outputId": "a01792ce-396b-43b7-9f92-f169d3052bd5"
      },
      "source": [
        "RFMScores.Frequency.describe()"
      ],
      "execution_count": null,
      "outputs": [
        {
          "output_type": "execute_result",
          "data": {
            "text/plain": [
              "count    160.000000\n",
              "mean       4.375000\n",
              "std        1.807566\n",
              "min        2.000000\n",
              "25%        3.000000\n",
              "50%        4.000000\n",
              "75%        6.000000\n",
              "max        8.000000\n",
              "Name: Frequency, dtype: float64"
            ]
          },
          "metadata": {
            "tags": []
          },
          "execution_count": 16
        }
      ]
    },
    {
      "cell_type": "code",
      "metadata": {
        "colab": {
          "base_uri": "https://localhost:8080/",
          "height": 337
        },
        "id": "M3rDHP5BieaI",
        "outputId": "36578799-5823-42a8-9900-3224dfa21c8d"
      },
      "source": [
        "import seaborn as sns\r\n",
        "x = RFMScores.query('Frequency < 1000')['Frequency']\r\n",
        "\r\n",
        "ax = sns.distplot(x)"
      ],
      "execution_count": null,
      "outputs": [
        {
          "output_type": "stream",
          "text": [
            "/usr/local/lib/python3.6/dist-packages/seaborn/distributions.py:2557: FutureWarning: `distplot` is a deprecated function and will be removed in a future version. Please adapt your code to use either `displot` (a figure-level function with similar flexibility) or `histplot` (an axes-level function for histograms).\n",
            "  warnings.warn(msg, FutureWarning)\n"
          ],
          "name": "stderr"
        },
        {
          "output_type": "display_data",
          "data": {
            "image/png": "[encoded data removed]",
            "text/plain": [
              "<Figure size 432x288 with 1 Axes>"
            ]
          },
          "metadata": {
            "tags": []
          }
        }
      ]
    },
    {
      "cell_type": "code",
      "metadata": {
        "colab": {
          "base_uri": "https://localhost:8080/"
        },
        "id": "fSWi-XD4ikda",
        "outputId": "cc5391bf-14eb-4df8-c63f-3b2c3012a864"
      },
      "source": [
        "RFMScores.Monetary.describe()"
      ],
      "execution_count": null,
      "outputs": [
        {
          "output_type": "execute_result",
          "data": {
            "text/plain": [
              "count    1.600000e+02\n",
              "mean     5.794275e+07\n",
              "std      2.790813e+07\n",
              "min      1.440000e+07\n",
              "25%      3.402000e+07\n",
              "50%      5.355000e+07\n",
              "75%      7.660500e+07\n",
              "max      1.254600e+08\n",
              "Name: Monetary, dtype: float64"
            ]
          },
          "metadata": {
            "tags": []
          },
          "execution_count": 18
        }
      ]
    },
    {
      "cell_type": "code",
      "metadata": {
        "colab": {
          "base_uri": "https://localhost:8080/",
          "height": 345
        },
        "id": "QtHLyUB8itV2",
        "outputId": "6fca30b1-90c2-4783-ed5d-c20f121fc8e4"
      },
      "source": [
        "import seaborn as sns\r\n",
        "x = RFMScores.query('Monetary < 100000000000')['Monetary']\r\n",
        "\r\n",
        "ax = sns.distplot(x)"
      ],
      "execution_count": null,
      "outputs": [
        {
          "output_type": "stream",
          "text": [
            "/usr/local/lib/python3.6/dist-packages/seaborn/distributions.py:2557: FutureWarning: `distplot` is a deprecated function and will be removed in a future version. Please adapt your code to use either `displot` (a figure-level function with similar flexibility) or `histplot` (an axes-level function for histograms).\n",
            "  warnings.warn(msg, FutureWarning)\n"
          ],
          "name": "stderr"
        },
        {
          "output_type": "display_data",
          "data": {
            "image/png": "[encoded data removed]",
            "text/plain": [
              "<Figure size 432x288 with 1 Axes>"
            ]
          },
          "metadata": {
            "tags": []
          }
        }
      ]
    },
    {
      "cell_type": "code",
      "metadata": {
        "colab": {
          "base_uri": "https://localhost:8080/"
        },
        "id": "cf8RkIxuiwSQ",
        "outputId": "6119896d-9a42-4800-b143-859b7cd63322"
      },
      "source": [
        "quantiles = RFMScores.quantile(q=[0.25,0.5,0.75])\r\n",
        "quantiles = quantiles.to_dict()\r\n",
        "quantiles"
      ],
      "execution_count": null,
      "outputs": [
        {
          "output_type": "execute_result",
          "data": {
            "text/plain": [
              "{'Frequency': {0.25: 3.0, 0.5: 4.0, 0.75: 6.0},\n",
              " 'Monetary': {0.25: 34020000.0, 0.5: 53550000.0, 0.75: 76605000.0},\n",
              " 'Recency': {0.25: 12.0, 0.5: 24.0, 0.75: 38.0}}"
            ]
          },
          "metadata": {
            "tags": []
          },
          "execution_count": 21
        }
      ]
    },
    {
      "cell_type": "code",
      "metadata": {
        "id": "bsgSxcMOiyyo"
      },
      "source": [
        "def RScoring(x,p,d):\r\n",
        "    if x <= d[p][0.25]:\r\n",
        "        return 1\r\n",
        "    elif x <= d[p][0.50]:\r\n",
        "        return 2\r\n",
        "    elif x <= d[p][0.75]: \r\n",
        "        return 3\r\n",
        "    else:\r\n",
        "        return 4\r\n",
        "    \r\n",
        "def FnMScoring(x,p,d):\r\n",
        "    if x <= d[p][0.25]:\r\n",
        "        return 4\r\n",
        "    elif x <= d[p][0.50]:\r\n",
        "        return 3\r\n",
        "    elif x <= d[p][0.75]: \r\n",
        "        return 2\r\n",
        "    else:\r\n",
        "        return 1"
      ],
      "execution_count": null,
      "outputs": []
    },
    {
      "cell_type": "code",
      "metadata": {
        "colab": {
          "base_uri": "https://localhost:8080/",
          "height": 233
        },
        "id": "FmlaOmwwjEtp",
        "outputId": "16f602b6-47d8-4006-db9b-484b28297584"
      },
      "source": [
        "RFMScores['R'] = RFMScores['Recency'].apply(RScoring, args=('Recency',quantiles,))\r\n",
        "RFMScores['F'] = RFMScores['Frequency'].apply(FnMScoring, args=('Frequency',quantiles,))\r\n",
        "RFMScores['M'] = RFMScores['Monetary'].apply(FnMScoring, args=('Monetary',quantiles,))\r\n",
        "RFMScores.head()"
      ],
      "execution_count": null,
      "outputs": [
        {
          "output_type": "execute_result",
          "data": {
            "text/html": [
              "<div>\n",
              "<style scoped>\n",
              "    .dataframe tbody tr th:only-of-type {\n",
              "        vertical-align: middle;\n",
              "    }\n",
              "\n",
              "    .dataframe tbody tr th {\n",
              "        vertical-align: top;\n",
              "    }\n",
              "\n",
              "    .dataframe thead th {\n",
              "        text-align: right;\n",
              "    }\n",
              "</style>\n",
              "<table border=\"1\" class=\"dataframe\">\n",
              "  <thead>\n",
              "    <tr style=\"text-align: right;\">\n",
              "      <th></th>\n",
              "      <th>Recency</th>\n",
              "      <th>Frequency</th>\n",
              "      <th>Monetary</th>\n",
              "      <th>R</th>\n",
              "      <th>F</th>\n",
              "      <th>M</th>\n",
              "    </tr>\n",
              "    <tr>\n",
              "      <th>CUSTOMER ID</th>\n",
              "      <th></th>\n",
              "      <th></th>\n",
              "      <th></th>\n",
              "      <th></th>\n",
              "      <th></th>\n",
              "      <th></th>\n",
              "    </tr>\n",
              "  </thead>\n",
              "  <tbody>\n",
              "    <tr>\n",
              "      <th>110032</th>\n",
              "      <td>6</td>\n",
              "      <td>7</td>\n",
              "      <td>54540000</td>\n",
              "      <td>1</td>\n",
              "      <td>1</td>\n",
              "      <td>2</td>\n",
              "    </tr>\n",
              "    <tr>\n",
              "      <th>110033</th>\n",
              "      <td>6</td>\n",
              "      <td>7</td>\n",
              "      <td>100260000</td>\n",
              "      <td>1</td>\n",
              "      <td>1</td>\n",
              "      <td>1</td>\n",
              "    </tr>\n",
              "    <tr>\n",
              "      <th>110034</th>\n",
              "      <td>6</td>\n",
              "      <td>7</td>\n",
              "      <td>116820000</td>\n",
              "      <td>1</td>\n",
              "      <td>1</td>\n",
              "      <td>1</td>\n",
              "    </tr>\n",
              "    <tr>\n",
              "      <th>110035</th>\n",
              "      <td>5</td>\n",
              "      <td>7</td>\n",
              "      <td>99360000</td>\n",
              "      <td>1</td>\n",
              "      <td>1</td>\n",
              "      <td>1</td>\n",
              "    </tr>\n",
              "    <tr>\n",
              "      <th>110036</th>\n",
              "      <td>5</td>\n",
              "      <td>7</td>\n",
              "      <td>68400000</td>\n",
              "      <td>1</td>\n",
              "      <td>1</td>\n",
              "      <td>2</td>\n",
              "    </tr>\n",
              "  </tbody>\n",
              "</table>\n",
              "</div>"
            ],
            "text/plain": [
              "             Recency  Frequency   Monetary  R  F  M\n",
              "CUSTOMER ID                                        \n",
              "110032             6          7   54540000  1  1  2\n",
              "110033             6          7  100260000  1  1  1\n",
              "110034             6          7  116820000  1  1  1\n",
              "110035             5          7   99360000  1  1  1\n",
              "110036             5          7   68400000  1  1  2"
            ]
          },
          "metadata": {
            "tags": []
          },
          "execution_count": 25
        }
      ]
    },
    {
      "cell_type": "code",
      "metadata": {
        "id": "OxfxadWBjH5E"
      },
      "source": [
        "RFMScores['RFMGroup'] = RFMScores.R.map(str) + RFMScores.F.map(str) + RFMScores.M.map(str)\r\n"
      ],
      "execution_count": null,
      "outputs": []
    },
    {
      "cell_type": "code",
      "metadata": {
        "colab": {
          "base_uri": "https://localhost:8080/",
          "height": 233
        },
        "id": "x9gfi1KFjOCs",
        "outputId": "00cd1390-c4a3-43d1-fe01-2ca54ab8de74"
      },
      "source": [
        "RFMScores['RFMScore'] = RFMScores[['R', 'F', 'M']].sum(axis = 1)\r\n",
        "RFMScores.head()"
      ],
      "execution_count": null,
      "outputs": [
        {
          "output_type": "execute_result",
          "data": {
            "text/html": [
              "<div>\n",
              "<style scoped>\n",
              "    .dataframe tbody tr th:only-of-type {\n",
              "        vertical-align: middle;\n",
              "    }\n",
              "\n",
              "    .dataframe tbody tr th {\n",
              "        vertical-align: top;\n",
              "    }\n",
              "\n",
              "    .dataframe thead th {\n",
              "        text-align: right;\n",
              "    }\n",
              "</style>\n",
              "<table border=\"1\" class=\"dataframe\">\n",
              "  <thead>\n",
              "    <tr style=\"text-align: right;\">\n",
              "      <th></th>\n",
              "      <th>Recency</th>\n",
              "      <th>Frequency</th>\n",
              "      <th>Monetary</th>\n",
              "      <th>R</th>\n",
              "      <th>F</th>\n",
              "      <th>M</th>\n",
              "      <th>RFMGroup</th>\n",
              "      <th>RFMScore</th>\n",
              "    </tr>\n",
              "    <tr>\n",
              "      <th>CUSTOMER ID</th>\n",
              "      <th></th>\n",
              "      <th></th>\n",
              "      <th></th>\n",
              "      <th></th>\n",
              "      <th></th>\n",
              "      <th></th>\n",
              "      <th></th>\n",
              "      <th></th>\n",
              "    </tr>\n",
              "  </thead>\n",
              "  <tbody>\n",
              "    <tr>\n",
              "      <th>110032</th>\n",
              "      <td>6</td>\n",
              "      <td>7</td>\n",
              "      <td>54540000</td>\n",
              "      <td>1</td>\n",
              "      <td>1</td>\n",
              "      <td>2</td>\n",
              "      <td>112</td>\n",
              "      <td>4</td>\n",
              "    </tr>\n",
              "    <tr>\n",
              "      <th>110033</th>\n",
              "      <td>6</td>\n",
              "      <td>7</td>\n",
              "      <td>100260000</td>\n",
              "      <td>1</td>\n",
              "      <td>1</td>\n",
              "      <td>1</td>\n",
              "      <td>111</td>\n",
              "      <td>3</td>\n",
              "    </tr>\n",
              "    <tr>\n",
              "      <th>110034</th>\n",
              "      <td>6</td>\n",
              "      <td>7</td>\n",
              "      <td>116820000</td>\n",
              "      <td>1</td>\n",
              "      <td>1</td>\n",
              "      <td>1</td>\n",
              "      <td>111</td>\n",
              "      <td>3</td>\n",
              "    </tr>\n",
              "    <tr>\n",
              "      <th>110035</th>\n",
              "      <td>5</td>\n",
              "      <td>7</td>\n",
              "      <td>99360000</td>\n",
              "      <td>1</td>\n",
              "      <td>1</td>\n",
              "      <td>1</td>\n",
              "      <td>111</td>\n",
              "      <td>3</td>\n",
              "    </tr>\n",
              "    <tr>\n",
              "      <th>110036</th>\n",
              "      <td>5</td>\n",
              "      <td>7</td>\n",
              "      <td>68400000</td>\n",
              "      <td>1</td>\n",
              "      <td>1</td>\n",
              "      <td>2</td>\n",
              "      <td>112</td>\n",
              "      <td>4</td>\n",
              "    </tr>\n",
              "  </tbody>\n",
              "</table>\n",
              "</div>"
            ],
            "text/plain": [
              "             Recency  Frequency   Monetary  R  F  M RFMGroup  RFMScore\n",
              "CUSTOMER ID                                                           \n",
              "110032             6          7   54540000  1  1  2      112         4\n",
              "110033             6          7  100260000  1  1  1      111         3\n",
              "110034             6          7  116820000  1  1  1      111         3\n",
              "110035             5          7   99360000  1  1  1      111         3\n",
              "110036             5          7   68400000  1  1  2      112         4"
            ]
          },
          "metadata": {
            "tags": []
          },
          "execution_count": 27
        }
      ]
    },
    {
      "cell_type": "code",
      "metadata": {
        "colab": {
          "base_uri": "https://localhost:8080/",
          "height": 202
        },
        "id": "vdGPa-3ljQAT",
        "outputId": "d8746b9f-86e5-46e4-bc30-7b3fffb879ba"
      },
      "source": [
        "Loyalty_Level = ['Platinum', 'Gold', 'Silver', 'Bronze']\r\n",
        "Score_cuts = pd.qcut(RFMScores.RFMScore, q = 4, labels = Loyalty_Level)\r\n",
        "RFMScores['RFM_Loyalty_Level'] = Score_cuts.values\r\n",
        "RFMScores.reset_index().head()"
      ],
      "execution_count": null,
      "outputs": [
        {
          "output_type": "execute_result",
          "data": {
            "text/html": [
              "<div>\n",
              "<style scoped>\n",
              "    .dataframe tbody tr th:only-of-type {\n",
              "        vertical-align: middle;\n",
              "    }\n",
              "\n",
              "    .dataframe tbody tr th {\n",
              "        vertical-align: top;\n",
              "    }\n",
              "\n",
              "    .dataframe thead th {\n",
              "        text-align: right;\n",
              "    }\n",
              "</style>\n",
              "<table border=\"1\" class=\"dataframe\">\n",
              "  <thead>\n",
              "    <tr style=\"text-align: right;\">\n",
              "      <th></th>\n",
              "      <th>CUSTOMER ID</th>\n",
              "      <th>Recency</th>\n",
              "      <th>Frequency</th>\n",
              "      <th>Monetary</th>\n",
              "      <th>R</th>\n",
              "      <th>F</th>\n",
              "      <th>M</th>\n",
              "      <th>RFMGroup</th>\n",
              "      <th>RFMScore</th>\n",
              "      <th>RFM_Loyalty_Level</th>\n",
              "    </tr>\n",
              "  </thead>\n",
              "  <tbody>\n",
              "    <tr>\n",
              "      <th>0</th>\n",
              "      <td>110032</td>\n",
              "      <td>6</td>\n",
              "      <td>7</td>\n",
              "      <td>54540000</td>\n",
              "      <td>1</td>\n",
              "      <td>1</td>\n",
              "      <td>2</td>\n",
              "      <td>112</td>\n",
              "      <td>4</td>\n",
              "      <td>Platinum</td>\n",
              "    </tr>\n",
              "    <tr>\n",
              "      <th>1</th>\n",
              "      <td>110033</td>\n",
              "      <td>6</td>\n",
              "      <td>7</td>\n",
              "      <td>100260000</td>\n",
              "      <td>1</td>\n",
              "      <td>1</td>\n",
              "      <td>1</td>\n",
              "      <td>111</td>\n",
              "      <td>3</td>\n",
              "      <td>Platinum</td>\n",
              "    </tr>\n",
              "    <tr>\n",
              "      <th>2</th>\n",
              "      <td>110034</td>\n",
              "      <td>6</td>\n",
              "      <td>7</td>\n",
              "      <td>116820000</td>\n",
              "      <td>1</td>\n",
              "      <td>1</td>\n",
              "      <td>1</td>\n",
              "      <td>111</td>\n",
              "      <td>3</td>\n",
              "      <td>Platinum</td>\n",
              "    </tr>\n",
              "    <tr>\n",
              "      <th>3</th>\n",
              "      <td>110035</td>\n",
              "      <td>5</td>\n",
              "      <td>7</td>\n",
              "      <td>99360000</td>\n",
              "      <td>1</td>\n",
              "      <td>1</td>\n",
              "      <td>1</td>\n",
              "      <td>111</td>\n",
              "      <td>3</td>\n",
              "      <td>Platinum</td>\n",
              "    </tr>\n",
              "    <tr>\n",
              "      <th>4</th>\n",
              "      <td>110036</td>\n",
              "      <td>5</td>\n",
              "      <td>7</td>\n",
              "      <td>68400000</td>\n",
              "      <td>1</td>\n",
              "      <td>1</td>\n",
              "      <td>2</td>\n",
              "      <td>112</td>\n",
              "      <td>4</td>\n",
              "      <td>Platinum</td>\n",
              "    </tr>\n",
              "  </tbody>\n",
              "</table>\n",
              "</div>"
            ],
            "text/plain": [
              "   CUSTOMER ID  Recency  Frequency  ...  RFMGroup  RFMScore  RFM_Loyalty_Level\n",
              "0       110032        6          7  ...       112         4           Platinum\n",
              "1       110033        6          7  ...       111         3           Platinum\n",
              "2       110034        6          7  ...       111         3           Platinum\n",
              "3       110035        5          7  ...       111         3           Platinum\n",
              "4       110036        5          7  ...       112         4           Platinum\n",
              "\n",
              "[5 rows x 10 columns]"
            ]
          },
          "metadata": {
            "tags": []
          },
          "execution_count": 28
        }
      ]
    },
    {
      "cell_type": "code",
      "metadata": {
        "colab": {
          "base_uri": "https://localhost:8080/"
        },
        "id": "23hzwzqKjSN_",
        "outputId": "9653072f-6539-4e6a-e3eb-c573e729731a"
      },
      "source": [
        "pip install chart_studio"
      ],
      "execution_count": null,
      "outputs": [
        {
          "output_type": "stream",
          "text": [
            "Collecting chart_studio\n",
            "\u001b[?25l  Downloading https://files.pythonhosted.org/packages/ca/ce/330794a6b6ca4b9182c38fc69dd2a9cbff60fd49421cb8648ee5fee352dc/chart_studio-1.1.0-py3-none-any.whl (64kB)\n",
            "\r\u001b[K     |█████                           | 10kB 15.1MB/s eta 0:00:01\r\u001b[K     |██████████▏                     | 20kB 13.2MB/s eta 0:00:01\r\u001b[K     |███████████████▎                | 30kB 6.9MB/s eta 0:00:01\r\u001b[K     |████████████████████▍           | 40kB 7.1MB/s eta 0:00:01\r\u001b[K     |█████████████████████████▍      | 51kB 4.3MB/s eta 0:00:01\r\u001b[K     |██████████████████████████████▌ | 61kB 5.0MB/s eta 0:00:01\r\u001b[K     |████████████████████████████████| 71kB 3.4MB/s \n",
            "\u001b[?25hRequirement already satisfied: six in /usr/local/lib/python3.6/dist-packages (from chart_studio) (1.15.0)\n",
            "Requirement already satisfied: requests in /usr/local/lib/python3.6/dist-packages (from chart_studio) (2.23.0)\n",
            "Requirement already satisfied: retrying>=1.3.3 in /usr/local/lib/python3.6/dist-packages (from chart_studio) (1.3.3)\n",
            "Requirement already satisfied: plotly in /usr/local/lib/python3.6/dist-packages (from chart_studio) (4.4.1)\n",
            "Requirement already satisfied: certifi>=2017.4.17 in /usr/local/lib/python3.6/dist-packages (from requests->chart_studio) (2020.12.5)\n",
            "Requirement already satisfied: idna<3,>=2.5 in /usr/local/lib/python3.6/dist-packages (from requests->chart_studio) (2.10)\n",
            "Requirement already satisfied: urllib3!=1.25.0,!=1.25.1,<1.26,>=1.21.1 in /usr/local/lib/python3.6/dist-packages (from requests->chart_studio) (1.24.3)\n",
            "Requirement already satisfied: chardet<4,>=3.0.2 in /usr/local/lib/python3.6/dist-packages (from requests->chart_studio) (3.0.4)\n",
            "Installing collected packages: chart-studio\n",
            "Successfully installed chart-studio-1.1.0\n"
          ],
          "name": "stdout"
        }
      ]
    },
    {
      "cell_type": "code",
      "metadata": {
        "colab": {
          "base_uri": "https://localhost:8080/",
          "height": 1000
        },
        "id": "KLw22XGSjVE7",
        "outputId": "17a77261-730d-40c2-e9d8-009100a5e88f"
      },
      "source": [
        "import chart_studio as cs\r\n",
        "import plotly.offline as po\r\n",
        "import plotly.graph_objs as gobj\r\n",
        "\r\n",
        "#Recency Vs Frequency\r\n",
        "graph = RFMScores.query(\"Monetary < 5000000000 and Frequency < 20\")\r\n",
        "\r\n",
        "plot_data = [\r\n",
        "    gobj.Scatter(\r\n",
        "        x=graph.query(\"RFM_Loyalty_Level == 'Bronze'\")['Recency'],\r\n",
        "        y=graph.query(\"RFM_Loyalty_Level == 'Bronze'\")['Frequency'],\r\n",
        "        mode='markers',\r\n",
        "        name='Bronze',\r\n",
        "        marker= dict(size= 7,\r\n",
        "            line= dict(width=1),\r\n",
        "            color= 'blue',\r\n",
        "            opacity= 0.8\r\n",
        "           )\r\n",
        "    ),\r\n",
        "        gobj.Scatter(\r\n",
        "        x=graph.query(\"RFM_Loyalty_Level == 'Silver'\")['Recency'],\r\n",
        "        y=graph.query(\"RFM_Loyalty_Level == 'Silver'\")['Frequency'],\r\n",
        "        mode='markers',\r\n",
        "        name='Silver',\r\n",
        "        marker= dict(size= 9,\r\n",
        "            line= dict(width=1),\r\n",
        "            color= 'green',\r\n",
        "            opacity= 0.5\r\n",
        "           )\r\n",
        "    ),\r\n",
        "        gobj.Scatter(\r\n",
        "        x=graph.query(\"RFM_Loyalty_Level == 'Gold'\")['Recency'],\r\n",
        "        y=graph.query(\"RFM_Loyalty_Level == 'Gold'\")['Frequency'],\r\n",
        "        mode='markers',\r\n",
        "        name='Gold',\r\n",
        "        marker= dict(size= 11,\r\n",
        "            line= dict(width=1),\r\n",
        "            color= 'red',\r\n",
        "            opacity= 0.9\r\n",
        "           )\r\n",
        "    ),\r\n",
        "    gobj.Scatter(\r\n",
        "        x=graph.query(\"RFM_Loyalty_Level == 'Platinum'\")['Recency'],\r\n",
        "        y=graph.query(\"RFM_Loyalty_Level == 'Platinum'\")['Frequency'],\r\n",
        "        mode='markers',\r\n",
        "        name='Platinum',\r\n",
        "        marker= dict(size= 13,\r\n",
        "            line= dict(width=1),\r\n",
        "            color= 'black',\r\n",
        "            opacity= 0.9\r\n",
        "           )\r\n",
        "    ),\r\n",
        "]\r\n",
        "\r\n",
        "plot_layout = gobj.Layout(\r\n",
        "        yaxis= {'title': \"Frequency\"},\r\n",
        "        xaxis= {'title': \"Recency\"},\r\n",
        "        title='Segments'\r\n",
        "    )\r\n",
        "fig = gobj.Figure(data=plot_data, layout=plot_layout)\r\n",
        "po.iplot(fig)\r\n",
        "\r\n",
        "#Frequency Vs Monetary\r\n",
        "graph = RFMScores.query(\"Monetary < 50000000000 and Frequency < 20\")\r\n",
        "\r\n",
        "plot_data = [\r\n",
        "    gobj.Scatter(\r\n",
        "        x=graph.query(\"RFM_Loyalty_Level == 'Bronze'\")['Frequency'],\r\n",
        "        y=graph.query(\"RFM_Loyalty_Level == 'Bronze'\")['Monetary'],\r\n",
        "        mode='markers',\r\n",
        "        name='Bronze',\r\n",
        "        marker= dict(size= 7,\r\n",
        "            line= dict(width=1),\r\n",
        "            color= 'blue',\r\n",
        "            opacity= 0.8\r\n",
        "           )\r\n",
        "    ),\r\n",
        "        gobj.Scatter(\r\n",
        "        x=graph.query(\"RFM_Loyalty_Level == 'Silver'\")['Frequency'],\r\n",
        "        y=graph.query(\"RFM_Loyalty_Level == 'Silver'\")['Monetary'],\r\n",
        "        mode='markers',\r\n",
        "        name='Silver',\r\n",
        "        marker= dict(size= 9,\r\n",
        "            line= dict(width=1),\r\n",
        "            color= 'green',\r\n",
        "            opacity= 0.5\r\n",
        "           )\r\n",
        "    ),\r\n",
        "        gobj.Scatter(\r\n",
        "        x=graph.query(\"RFM_Loyalty_Level == 'Gold'\")['Frequency'],\r\n",
        "        y=graph.query(\"RFM_Loyalty_Level == 'Gold'\")['Monetary'],\r\n",
        "        mode='markers',\r\n",
        "        name='Gold',\r\n",
        "        marker= dict(size= 11,\r\n",
        "            line= dict(width=1),\r\n",
        "            color= 'red',\r\n",
        "            opacity= 0.9\r\n",
        "           )\r\n",
        "    ),\r\n",
        "    gobj.Scatter(\r\n",
        "        x=graph.query(\"RFM_Loyalty_Level == 'Platinum'\")['Frequency'],\r\n",
        "        y=graph.query(\"RFM_Loyalty_Level == 'Platinum'\")['Monetary'],\r\n",
        "        mode='markers',\r\n",
        "        name='Platinum',\r\n",
        "        marker= dict(size= 13,\r\n",
        "            line= dict(width=1),\r\n",
        "            color= 'black',\r\n",
        "            opacity= 0.9\r\n",
        "           )\r\n",
        "    ),\r\n",
        "]\r\n",
        "\r\n",
        "plot_layout = gobj.Layout(\r\n",
        "        yaxis= {'title': \"Monetary\"},\r\n",
        "        xaxis= {'title': \"Frequency\"},\r\n",
        "        title='Segments'\r\n",
        "    )\r\n",
        "fig = gobj.Figure(data=plot_data, layout=plot_layout)\r\n",
        "po.iplot(fig)\r\n",
        "\r\n",
        "#Recency Vs Monetary\r\n",
        "graph = RFMScores.query(\"Monetary < 50000000000 and Frequency < 20\")\r\n",
        "\r\n",
        "plot_data = [\r\n",
        "    gobj.Scatter(\r\n",
        "        x=graph.query(\"RFM_Loyalty_Level == 'Bronze'\")['Recency'],\r\n",
        "        y=graph.query(\"RFM_Loyalty_Level == 'Bronze'\")['Monetary'],\r\n",
        "        mode='markers',\r\n",
        "        name='Bronze',\r\n",
        "        marker= dict(size= 7,\r\n",
        "            line= dict(width=1),\r\n",
        "            color= 'blue',\r\n",
        "            opacity= 0.8\r\n",
        "           )\r\n",
        "    ),\r\n",
        "        gobj.Scatter(\r\n",
        "        x=graph.query(\"RFM_Loyalty_Level == 'Silver'\")['Recency'],\r\n",
        "        y=graph.query(\"RFM_Loyalty_Level == 'Silver'\")['Monetary'],\r\n",
        "        mode='markers',\r\n",
        "        name='Silver',\r\n",
        "        marker= dict(size= 9,\r\n",
        "            line= dict(width=1),\r\n",
        "            color= 'green',\r\n",
        "            opacity= 0.5\r\n",
        "           )\r\n",
        "    ),\r\n",
        "        gobj.Scatter(\r\n",
        "        x=graph.query(\"RFM_Loyalty_Level == 'Gold'\")['Recency'],\r\n",
        "        y=graph.query(\"RFM_Loyalty_Level == 'Gold'\")['Monetary'],\r\n",
        "        mode='markers',\r\n",
        "        name='Gold',\r\n",
        "        marker= dict(size= 11,\r\n",
        "            line= dict(width=1),\r\n",
        "            color= 'red',\r\n",
        "            opacity= 0.9\r\n",
        "           )\r\n",
        "    ),\r\n",
        "    gobj.Scatter(\r\n",
        "        x=graph.query(\"RFM_Loyalty_Level == 'Platinum'\")['Recency'],\r\n",
        "        y=graph.query(\"RFM_Loyalty_Level == 'Platinum'\")['Monetary'],\r\n",
        "        mode='markers',\r\n",
        "        name='Platinum',\r\n",
        "        marker= dict(size= 13,\r\n",
        "            line= dict(width=1),\r\n",
        "            color= 'black',\r\n",
        "            opacity= 0.9\r\n",
        "           )\r\n",
        "    ),\r\n",
        "]\r\n",
        "\r\n",
        "plot_layout = gobj.Layout(\r\n",
        "        yaxis= {'title': \"Monetary\"},\r\n",
        "        xaxis= {'title': \"Recency\"},\r\n",
        "        title='Segments'\r\n",
        "    )\r\n",
        "fig = gobj.Figure(data=plot_data, layout=plot_layout)\r\n",
        "po.iplot(fig)\r\n"
      ],
      "execution_count": null,
      "outputs": [
        {
          "output_type": "display_data",
          "data": {
            "text/html": [
              "<html>\n",
              "<head><meta charset=\"utf-8\" /></head>\n",
              "<body>\n",
              "    <div>\n",
              "            <script src=\"https://cdnjs.cloudflare.com/ajax/libs/mathjax/2.7.5/MathJax.js?config=TeX-AMS-MML_SVG\"></script><script type=\"text/javascript\">if (window.MathJax) {MathJax.Hub.Config({SVG: {font: \"STIX-Web\"}});}</script>\n",
              "                <script type=\"text/javascript\">window.PlotlyConfig = {MathJaxConfig: 'local'};</script>\n",
              "        <script src=\"https://cdn.plot.ly/plotly-latest.min.js\"></script>    \n",
              "            <div id=\"829bcef3-70ab-4b99-8dcf-84c96f6a281c\" class=\"plotly-graph-div\" style=\"height:525px; width:100%;\"></div>\n",
              "            <script type=\"text/javascript\">\n",
              "                \n",
              "                    window.PLOTLYENV=window.PLOTLYENV || {};\n",
              "                    \n",
              "                if (document.getElementById(\"829bcef3-70ab-4b99-8dcf-84c96f6a281c\")) {\n",
              "                    Plotly.newPlot(\n",
              "                        '829bcef3-70ab-4b99-8dcf-84c96f6a281c',\n",
              "                        [{\"marker\": {\"color\": \"blue\", \"line\": {\"width\": 1}, \"opacity\": 0.8, \"size\": 7}, \"mode\": \"markers\", \"name\": \"Bronze\", \"type\": \"scatter\", \"x\": [25, 179, 31, 51, 51, 51, 51, 50, 40, 40, 40, 39, 39, 39, 38, 38, 38, 38, 29, 28, 28, 28, 27, 27, 27], \"y\": [3, 2, 3, 3, 3, 3, 3, 3, 2, 2, 2, 2, 2, 2, 2, 2, 2, 2, 2, 2, 2, 2, 2, 2, 2]}, {\"marker\": {\"color\": \"green\", \"line\": {\"width\": 1}, \"opacity\": 0.5, \"size\": 9}, \"mode\": \"markers\", \"name\": \"Silver\", \"type\": \"scatter\", \"x\": [24, 24, 25, 25, 25, 24, 60, 60, 60, 60, 59, 59, 58, 125, 21, 0, 0, 0, 31, 31, 53, 52, 29, 29, 24, 17, 17, 16, 15, 15, 15, 15, 15, 15, 24, 24, 24, 23, 23, 22, 22, 21, 21, 11, 11, 10], \"y\": [2, 2, 3, 3, 3, 3, 5, 5, 5, 5, 4, 4, 4, 4, 4, 3, 3, 3, 3, 3, 4, 4, 2, 2, 2, 3, 3, 3, 3, 3, 3, 3, 3, 3, 3, 3, 3, 3, 3, 3, 3, 3, 3, 3, 3, 3]}, {\"marker\": {\"color\": \"red\", \"line\": {\"width\": 1}, \"opacity\": 0.9, \"size\": 11}, \"mode\": \"markers\", \"name\": \"Gold\", \"type\": \"scatter\", \"x\": [24, 24, 24, 60, 59, 21, 21, 20, 20, 19, 42, 41, 41, 41, 41, 41, 41, 40, 40, 40, 1, 0, 33, 33, 33, 32, 32, 32, 31, 15, 14, 14, 14, 14, 14, 52, 51, 51, 7, 18, 12, 11, 10, 9, 9, 9, 8], \"y\": [4, 4, 4, 5, 6, 4, 4, 4, 6, 6, 6, 6, 7, 7, 7, 8, 8, 8, 8, 5, 4, 3, 5, 5, 5, 5, 6, 5, 4, 4, 4, 4, 4, 4, 5, 5, 5, 5, 5, 3, 3, 3, 3, 3, 3, 3, 3]}, {\"marker\": {\"color\": \"black\", \"line\": {\"width\": 1}, \"opacity\": 0.9, \"size\": 13}, \"mode\": \"markers\", \"name\": \"Platinum\", \"type\": \"scatter\", \"x\": [6, 6, 6, 5, 5, 5, 4, 4, 4, 3, 20, 19, 19, 19, 3, 2, 1, 1, 13, 13, 13, 12, 8, 8, 8, 8, 8, 7, 7, 6, 6, 37, 37, 37, 37, 36, 36, 36, 36, 36, 35, 12], \"y\": [7, 7, 7, 7, 7, 5, 5, 6, 6, 5, 6, 7, 7, 6, 5, 5, 5, 5, 7, 7, 7, 6, 6, 6, 6, 6, 6, 5, 5, 6, 6, 7, 7, 7, 7, 8, 8, 8, 8, 8, 7, 5]}],\n",
              "                        {\"template\": {\"data\": {\"bar\": [{\"error_x\": {\"color\": \"#2a3f5f\"}, \"error_y\": {\"color\": \"#2a3f5f\"}, \"marker\": {\"line\": {\"color\": \"#E5ECF6\", \"width\": 0.5}}, \"type\": \"bar\"}], \"barpolar\": [{\"marker\": {\"line\": {\"color\": \"#E5ECF6\", \"width\": 0.5}}, \"type\": \"barpolar\"}], \"carpet\": [{\"aaxis\": {\"endlinecolor\": \"#2a3f5f\", \"gridcolor\": \"white\", \"linecolor\": \"white\", \"minorgridcolor\": \"white\", \"startlinecolor\": \"#2a3f5f\"}, \"baxis\": {\"endlinecolor\": \"#2a3f5f\", \"gridcolor\": \"white\", \"linecolor\": \"white\", \"minorgridcolor\": \"white\", \"startlinecolor\": \"#2a3f5f\"}, \"type\": \"carpet\"}], \"choropleth\": [{\"colorbar\": {\"outlinewidth\": 0, \"ticks\": \"\"}, \"type\": \"choropleth\"}], \"contour\": [{\"colorbar\": {\"outlinewidth\": 0, \"ticks\": \"\"}, \"colorscale\": [[0.0, \"#0d0887\"], [0.1111111111111111, \"#46039f\"], [0.2222222222222222, \"#7201a8\"], [0.3333333333333333, \"#9c179e\"], [0.4444444444444444, \"#bd3786\"], [0.5555555555555556, \"#d8576b\"], [0.6666666666666666, \"#ed7953\"], [0.7777777777777778, \"#fb9f3a\"], [0.8888888888888888, \"#fdca26\"], [1.0, \"#f0f921\"]], \"type\": \"contour\"}], \"contourcarpet\": [{\"colorbar\": {\"outlinewidth\": 0, \"ticks\": \"\"}, \"type\": \"contourcarpet\"}], \"heatmap\": [{\"colorbar\": {\"outlinewidth\": 0, \"ticks\": \"\"}, \"colorscale\": [[0.0, \"#0d0887\"], [0.1111111111111111, \"#46039f\"], [0.2222222222222222, \"#7201a8\"], [0.3333333333333333, \"#9c179e\"], [0.4444444444444444, \"#bd3786\"], [0.5555555555555556, \"#d8576b\"], [0.6666666666666666, \"#ed7953\"], [0.7777777777777778, \"#fb9f3a\"], [0.8888888888888888, \"#fdca26\"], [1.0, \"#f0f921\"]], \"type\": \"heatmap\"}], \"heatmapgl\": [{\"colorbar\": {\"outlinewidth\": 0, \"ticks\": \"\"}, \"colorscale\": [[0.0, \"#0d0887\"], [0.1111111111111111, \"#46039f\"], [0.2222222222222222, \"#7201a8\"], [0.3333333333333333, \"#9c179e\"], [0.4444444444444444, \"#bd3786\"], [0.5555555555555556, \"#d8576b\"], [0.6666666666666666, \"#ed7953\"], [0.7777777777777778, \"#fb9f3a\"], [0.8888888888888888, \"#fdca26\"], [1.0, \"#f0f921\"]], \"type\": \"heatmapgl\"}], \"histogram\": [{\"marker\": {\"colorbar\": {\"outlinewidth\": 0, \"ticks\": \"\"}}, \"type\": \"histogram\"}], \"histogram2d\": [{\"colorbar\": {\"outlinewidth\": 0, \"ticks\": \"\"}, \"colorscale\": [[0.0, \"#0d0887\"], [0.1111111111111111, \"#46039f\"], [0.2222222222222222, \"#7201a8\"], [0.3333333333333333, \"#9c179e\"], [0.4444444444444444, \"#bd3786\"], [0.5555555555555556, \"#d8576b\"], [0.6666666666666666, \"#ed7953\"], [0.7777777777777778, \"#fb9f3a\"], [0.8888888888888888, \"#fdca26\"], [1.0, \"#f0f921\"]], \"type\": \"histogram2d\"}], \"histogram2dcontour\": [{\"colorbar\": {\"outlinewidth\": 0, \"ticks\": \"\"}, \"colorscale\": [[0.0, \"#0d0887\"], [0.1111111111111111, \"#46039f\"], [0.2222222222222222, \"#7201a8\"], [0.3333333333333333, \"#9c179e\"], [0.4444444444444444, \"#bd3786\"], [0.5555555555555556, \"#d8576b\"], [0.6666666666666666, \"#ed7953\"], [0.7777777777777778, \"#fb9f3a\"], [0.8888888888888888, \"#fdca26\"], [1.0, \"#f0f921\"]], \"type\": \"histogram2dcontour\"}], \"mesh3d\": [{\"colorbar\": {\"outlinewidth\": 0, \"ticks\": \"\"}, \"type\": \"mesh3d\"}], \"parcoords\": [{\"line\": {\"colorbar\": {\"outlinewidth\": 0, \"ticks\": \"\"}}, \"type\": \"parcoords\"}], \"pie\": [{\"automargin\": true, \"type\": \"pie\"}], \"scatter\": [{\"marker\": {\"colorbar\": {\"outlinewidth\": 0, \"ticks\": \"\"}}, \"type\": \"scatter\"}], \"scatter3d\": [{\"line\": {\"colorbar\": {\"outlinewidth\": 0, \"ticks\": \"\"}}, \"marker\": {\"colorbar\": {\"outlinewidth\": 0, \"ticks\": \"\"}}, \"type\": \"scatter3d\"}], \"scattercarpet\": [{\"marker\": {\"colorbar\": {\"outlinewidth\": 0, \"ticks\": \"\"}}, \"type\": \"scattercarpet\"}], \"scattergeo\": [{\"marker\": {\"colorbar\": {\"outlinewidth\": 0, \"ticks\": \"\"}}, \"type\": \"scattergeo\"}], \"scattergl\": [{\"marker\": {\"colorbar\": {\"outlinewidth\": 0, \"ticks\": \"\"}}, \"type\": \"scattergl\"}], \"scattermapbox\": [{\"marker\": {\"colorbar\": {\"outlinewidth\": 0, \"ticks\": \"\"}}, \"type\": \"scattermapbox\"}], \"scatterpolar\": [{\"marker\": {\"colorbar\": {\"outlinewidth\": 0, \"ticks\": \"\"}}, \"type\": \"scatterpolar\"}], \"scatterpolargl\": [{\"marker\": {\"colorbar\": {\"outlinewidth\": 0, \"ticks\": \"\"}}, \"type\": \"scatterpolargl\"}], \"scatterternary\": [{\"marker\": {\"colorbar\": {\"outlinewidth\": 0, \"ticks\": \"\"}}, \"type\": \"scatterternary\"}], \"surface\": [{\"colorbar\": {\"outlinewidth\": 0, \"ticks\": \"\"}, \"colorscale\": [[0.0, \"#0d0887\"], [0.1111111111111111, \"#46039f\"], [0.2222222222222222, \"#7201a8\"], [0.3333333333333333, \"#9c179e\"], [0.4444444444444444, \"#bd3786\"], [0.5555555555555556, \"#d8576b\"], [0.6666666666666666, \"#ed7953\"], [0.7777777777777778, \"#fb9f3a\"], [0.8888888888888888, \"#fdca26\"], [1.0, \"#f0f921\"]], \"type\": \"surface\"}], \"table\": [{\"cells\": {\"fill\": {\"color\": \"#EBF0F8\"}, \"line\": {\"color\": \"white\"}}, \"header\": {\"fill\": {\"color\": \"#C8D4E3\"}, \"line\": {\"color\": \"white\"}}, \"type\": \"table\"}]}, \"layout\": {\"annotationdefaults\": {\"arrowcolor\": \"#2a3f5f\", \"arrowhead\": 0, \"arrowwidth\": 1}, \"coloraxis\": {\"colorbar\": {\"outlinewidth\": 0, \"ticks\": \"\"}}, \"colorscale\": {\"diverging\": [[0, \"#8e0152\"], [0.1, \"#c51b7d\"], [0.2, \"#de77ae\"], [0.3, \"#f1b6da\"], [0.4, \"#fde0ef\"], [0.5, \"#f7f7f7\"], [0.6, \"#e6f5d0\"], [0.7, \"#b8e186\"], [0.8, \"#7fbc41\"], [0.9, \"#4d9221\"], [1, \"#276419\"]], \"sequential\": [[0.0, \"#0d0887\"], [0.1111111111111111, \"#46039f\"], [0.2222222222222222, \"#7201a8\"], [0.3333333333333333, \"#9c179e\"], [0.4444444444444444, \"#bd3786\"], [0.5555555555555556, \"#d8576b\"], [0.6666666666666666, \"#ed7953\"], [0.7777777777777778, \"#fb9f3a\"], [0.8888888888888888, \"#fdca26\"], [1.0, \"#f0f921\"]], \"sequentialminus\": [[0.0, \"#0d0887\"], [0.1111111111111111, \"#46039f\"], [0.2222222222222222, \"#7201a8\"], [0.3333333333333333, \"#9c179e\"], [0.4444444444444444, \"#bd3786\"], [0.5555555555555556, \"#d8576b\"], [0.6666666666666666, \"#ed7953\"], [0.7777777777777778, \"#fb9f3a\"], [0.8888888888888888, \"#fdca26\"], [1.0, \"#f0f921\"]]}, \"colorway\": [\"#636efa\", \"#EF553B\", \"#00cc96\", \"#ab63fa\", \"#FFA15A\", \"#19d3f3\", \"#FF6692\", \"#B6E880\", \"#FF97FF\", \"#FECB52\"], \"font\": {\"color\": \"#2a3f5f\"}, \"geo\": {\"bgcolor\": \"white\", \"lakecolor\": \"white\", \"landcolor\": \"#E5ECF6\", \"showlakes\": true, \"showland\": true, \"subunitcolor\": \"white\"}, \"hoverlabel\": {\"align\": \"left\"}, \"hovermode\": \"closest\", \"mapbox\": {\"style\": \"light\"}, \"paper_bgcolor\": \"white\", \"plot_bgcolor\": \"#E5ECF6\", \"polar\": {\"angularaxis\": {\"gridcolor\": \"white\", \"linecolor\": \"white\", \"ticks\": \"\"}, \"bgcolor\": \"#E5ECF6\", \"radialaxis\": {\"gridcolor\": \"white\", \"linecolor\": \"white\", \"ticks\": \"\"}}, \"scene\": {\"xaxis\": {\"backgroundcolor\": \"#E5ECF6\", \"gridcolor\": \"white\", \"gridwidth\": 2, \"linecolor\": \"white\", \"showbackground\": true, \"ticks\": \"\", \"zerolinecolor\": \"white\"}, \"yaxis\": {\"backgroundcolor\": \"#E5ECF6\", \"gridcolor\": \"white\", \"gridwidth\": 2, \"linecolor\": \"white\", \"showbackground\": true, \"ticks\": \"\", \"zerolinecolor\": \"white\"}, \"zaxis\": {\"backgroundcolor\": \"#E5ECF6\", \"gridcolor\": \"white\", \"gridwidth\": 2, \"linecolor\": \"white\", \"showbackground\": true, \"ticks\": \"\", \"zerolinecolor\": \"white\"}}, \"shapedefaults\": {\"line\": {\"color\": \"#2a3f5f\"}}, \"ternary\": {\"aaxis\": {\"gridcolor\": \"white\", \"linecolor\": \"white\", \"ticks\": \"\"}, \"baxis\": {\"gridcolor\": \"white\", \"linecolor\": \"white\", \"ticks\": \"\"}, \"bgcolor\": \"#E5ECF6\", \"caxis\": {\"gridcolor\": \"white\", \"linecolor\": \"white\", \"ticks\": \"\"}}, \"title\": {\"x\": 0.05}, \"xaxis\": {\"automargin\": true, \"gridcolor\": \"white\", \"linecolor\": \"white\", \"ticks\": \"\", \"title\": {\"standoff\": 15}, \"zerolinecolor\": \"white\", \"zerolinewidth\": 2}, \"yaxis\": {\"automargin\": true, \"gridcolor\": \"white\", \"linecolor\": \"white\", \"ticks\": \"\", \"title\": {\"standoff\": 15}, \"zerolinecolor\": \"white\", \"zerolinewidth\": 2}}}, \"title\": {\"text\": \"Segments\"}, \"xaxis\": {\"title\": {\"text\": \"Recency\"}}, \"yaxis\": {\"title\": {\"text\": \"Frequency\"}}},\n",
              "                        {\"responsive\": true}\n",
              "                    ).then(function(){\n",
              "                            \n",
              "var gd = document.getElementById('829bcef3-70ab-4b99-8dcf-84c96f6a281c');\n",
              "var x = new MutationObserver(function (mutations, observer) {{\n",
              "        var display = window.getComputedStyle(gd).display;\n",
              "        if (!display || display === 'none') {{\n",
              "            console.log([gd, 'removed!']);\n",
              "            Plotly.purge(gd);\n",
              "            observer.disconnect();\n",
              "        }}\n",
              "}});\n",
              "\n",
              "// Listen for the removal of the full notebook cells\n",
              "var notebookContainer = gd.closest('#notebook-container');\n",
              "if (notebookContainer) {{\n",
              "    x.observe(notebookContainer, {childList: true});\n",
              "}}\n",
              "\n",
              "// Listen for the clearing of the current output cell\n",
              "var outputEl = gd.closest('.output');\n",
              "if (outputEl) {{\n",
              "    x.observe(outputEl, {childList: true});\n",
              "}}\n",
              "\n",
              "                        })\n",
              "                };\n",
              "                \n",
              "            </script>\n",
              "        </div>\n",
              "</body>\n",
              "</html>"
            ]
          },
          "metadata": {
            "tags": []
          }
        },
        {
          "output_type": "display_data",
          "data": {
            "text/html": [
              "<html>\n",
              "<head><meta charset=\"utf-8\" /></head>\n",
              "<body>\n",
              "    <div>\n",
              "            <script src=\"https://cdnjs.cloudflare.com/ajax/libs/mathjax/2.7.5/MathJax.js?config=TeX-AMS-MML_SVG\"></script><script type=\"text/javascript\">if (window.MathJax) {MathJax.Hub.Config({SVG: {font: \"STIX-Web\"}});}</script>\n",
              "                <script type=\"text/javascript\">window.PlotlyConfig = {MathJaxConfig: 'local'};</script>\n",
              "        <script src=\"https://cdn.plot.ly/plotly-latest.min.js\"></script>    \n",
              "            <div id=\"ba25ddef-8a00-4219-8eb3-f783a10c6ffc\" class=\"plotly-graph-div\" style=\"height:525px; width:100%;\"></div>\n",
              "            <script type=\"text/javascript\">\n",
              "                \n",
              "                    window.PLOTLYENV=window.PLOTLYENV || {};\n",
              "                    \n",
              "                if (document.getElementById(\"ba25ddef-8a00-4219-8eb3-f783a10c6ffc\")) {\n",
              "                    Plotly.newPlot(\n",
              "                        'ba25ddef-8a00-4219-8eb3-f783a10c6ffc',\n",
              "                        [{\"marker\": {\"color\": \"blue\", \"line\": {\"width\": 1}, \"opacity\": 0.8, \"size\": 7}, \"mode\": \"markers\", \"name\": \"Bronze\", \"type\": \"scatter\", \"x\": [3, 2, 3, 3, 3, 3, 3, 3, 2, 2, 2, 2, 2, 2, 2, 2, 2, 2, 2, 2, 2, 2, 2, 2, 2], \"y\": [31500000, 28800000, 28980000, 32400000, 41400000, 32200000, 46700000, 40500000, 21420000, 24300000, 31680000, 31660000, 31580000, 16740000, 20160000, 22500000, 20880000, 14400000, 21060000, 16200000, 17460000, 20160000, 32580000, 18540000, 31320000]}, {\"marker\": {\"color\": \"green\", \"line\": {\"width\": 1}, \"opacity\": 0.5, \"size\": 9}, \"mode\": \"markers\", \"name\": \"Silver\", \"type\": \"scatter\", \"x\": [2, 2, 3, 3, 3, 3, 5, 5, 5, 5, 4, 4, 4, 4, 4, 3, 3, 3, 3, 3, 4, 4, 2, 2, 2, 3, 3, 3, 3, 3, 3, 3, 3, 3, 3, 3, 3, 3, 3, 3, 3, 3, 3, 3, 3, 3], \"y\": [15300000, 22500000, 44100000, 34200000, 38700000, 41400000, 50400000, 48600000, 53100000, 45900000, 54000000, 51300000, 54000000, 48600000, 32760000, 31500000, 27000000, 27000000, 58860000, 69300000, 47700000, 45900000, 48600000, 59040000, 31500000, 33120000, 27000000, 19980000, 34020000, 32220000, 25200000, 37620000, 50940000, 50220000, 42300000, 30060000, 51300000, 26280000, 32220000, 52560000, 49500000, 35820000, 35460000, 22300000, 31140000, 34020000]}, {\"marker\": {\"color\": \"red\", \"line\": {\"width\": 1}, \"opacity\": 0.9, \"size\": 11}, \"mode\": \"markers\", \"name\": \"Gold\", \"type\": \"scatter\", \"x\": [4, 4, 4, 5, 6, 4, 4, 4, 6, 6, 6, 6, 7, 7, 7, 8, 8, 8, 8, 5, 4, 3, 5, 5, 5, 5, 6, 5, 4, 4, 4, 4, 4, 4, 5, 5, 5, 5, 5, 3, 3, 3, 3, 3, 3, 3, 3], \"y\": [71100000, 51300000, 39600000, 78300000, 75600000, 44100000, 64440000, 55620000, 74860000, 76040000, 90000000, 68400000, 79000000, 67400000, 92700000, 104400000, 120960000, 100440000, 106560000, 58500000, 74340000, 51300000, 69120000, 57060000, 52020000, 59580000, 90000000, 81000000, 64980000, 54360000, 39600000, 42660000, 56340000, 66060000, 63900000, 75600000, 54900000, 67500000, 43200000, 95040000, 46620000, 35900000, 36540000, 67320000, 43560000, 35460000, 34740000]}, {\"marker\": {\"color\": \"black\", \"line\": {\"width\": 1}, \"opacity\": 0.9, \"size\": 13}, \"mode\": \"markers\", \"name\": \"Platinum\", \"type\": \"scatter\", \"x\": [7, 7, 7, 7, 7, 5, 5, 6, 6, 5, 6, 7, 7, 6, 5, 5, 5, 5, 7, 7, 7, 6, 6, 6, 6, 6, 6, 5, 5, 6, 6, 7, 7, 7, 7, 8, 8, 8, 8, 8, 7, 5], \"y\": [54540000, 100260000, 116820000, 99360000, 68400000, 60300000, 88200000, 95400000, 89100000, 63900000, 92700000, 101880000, 63720000, 88200000, 83340000, 92520000, 63360000, 78840000, 113940000, 81720000, 111060000, 69840000, 71100000, 72900000, 79200000, 78300000, 91800000, 54900000, 67500000, 83700000, 56700000, 125460000, 102420000, 102060000, 98640000, 119880000, 109620000, 99360000, 118440000, 117540000, 100800000, 55440000]}],\n",
              "                        {\"template\": {\"data\": {\"bar\": [{\"error_x\": {\"color\": \"#2a3f5f\"}, \"error_y\": {\"color\": \"#2a3f5f\"}, \"marker\": {\"line\": {\"color\": \"#E5ECF6\", \"width\": 0.5}}, \"type\": \"bar\"}], \"barpolar\": [{\"marker\": {\"line\": {\"color\": \"#E5ECF6\", \"width\": 0.5}}, \"type\": \"barpolar\"}], \"carpet\": [{\"aaxis\": {\"endlinecolor\": \"#2a3f5f\", \"gridcolor\": \"white\", \"linecolor\": \"white\", \"minorgridcolor\": \"white\", \"startlinecolor\": \"#2a3f5f\"}, \"baxis\": {\"endlinecolor\": \"#2a3f5f\", \"gridcolor\": \"white\", \"linecolor\": \"white\", \"minorgridcolor\": \"white\", \"startlinecolor\": \"#2a3f5f\"}, \"type\": \"carpet\"}], \"choropleth\": [{\"colorbar\": {\"outlinewidth\": 0, \"ticks\": \"\"}, \"type\": \"choropleth\"}], \"contour\": [{\"colorbar\": {\"outlinewidth\": 0, \"ticks\": \"\"}, \"colorscale\": [[0.0, \"#0d0887\"], [0.1111111111111111, \"#46039f\"], [0.2222222222222222, \"#7201a8\"], [0.3333333333333333, \"#9c179e\"], [0.4444444444444444, \"#bd3786\"], [0.5555555555555556, \"#d8576b\"], [0.6666666666666666, \"#ed7953\"], [0.7777777777777778, \"#fb9f3a\"], [0.8888888888888888, \"#fdca26\"], [1.0, \"#f0f921\"]], \"type\": \"contour\"}], \"contourcarpet\": [{\"colorbar\": {\"outlinewidth\": 0, \"ticks\": \"\"}, \"type\": \"contourcarpet\"}], \"heatmap\": [{\"colorbar\": {\"outlinewidth\": 0, \"ticks\": \"\"}, \"colorscale\": [[0.0, \"#0d0887\"], [0.1111111111111111, \"#46039f\"], [0.2222222222222222, \"#7201a8\"], [0.3333333333333333, \"#9c179e\"], [0.4444444444444444, \"#bd3786\"], [0.5555555555555556, \"#d8576b\"], [0.6666666666666666, \"#ed7953\"], [0.7777777777777778, \"#fb9f3a\"], [0.8888888888888888, \"#fdca26\"], [1.0, \"#f0f921\"]], \"type\": \"heatmap\"}], \"heatmapgl\": [{\"colorbar\": {\"outlinewidth\": 0, \"ticks\": \"\"}, \"colorscale\": [[0.0, \"#0d0887\"], [0.1111111111111111, \"#46039f\"], [0.2222222222222222, \"#7201a8\"], [0.3333333333333333, \"#9c179e\"], [0.4444444444444444, \"#bd3786\"], [0.5555555555555556, \"#d8576b\"], [0.6666666666666666, \"#ed7953\"], [0.7777777777777778, \"#fb9f3a\"], [0.8888888888888888, \"#fdca26\"], [1.0, \"#f0f921\"]], \"type\": \"heatmapgl\"}], \"histogram\": [{\"marker\": {\"colorbar\": {\"outlinewidth\": 0, \"ticks\": \"\"}}, \"type\": \"histogram\"}], \"histogram2d\": [{\"colorbar\": {\"outlinewidth\": 0, \"ticks\": \"\"}, \"colorscale\": [[0.0, \"#0d0887\"], [0.1111111111111111, \"#46039f\"], [0.2222222222222222, \"#7201a8\"], [0.3333333333333333, \"#9c179e\"], [0.4444444444444444, \"#bd3786\"], [0.5555555555555556, \"#d8576b\"], [0.6666666666666666, \"#ed7953\"], [0.7777777777777778, \"#fb9f3a\"], [0.8888888888888888, \"#fdca26\"], [1.0, \"#f0f921\"]], \"type\": \"histogram2d\"}], \"histogram2dcontour\": [{\"colorbar\": {\"outlinewidth\": 0, \"ticks\": \"\"}, \"colorscale\": [[0.0, \"#0d0887\"], [0.1111111111111111, \"#46039f\"], [0.2222222222222222, \"#7201a8\"], [0.3333333333333333, \"#9c179e\"], [0.4444444444444444, \"#bd3786\"], [0.5555555555555556, \"#d8576b\"], [0.6666666666666666, \"#ed7953\"], [0.7777777777777778, \"#fb9f3a\"], [0.8888888888888888, \"#fdca26\"], [1.0, \"#f0f921\"]], \"type\": \"histogram2dcontour\"}], \"mesh3d\": [{\"colorbar\": {\"outlinewidth\": 0, \"ticks\": \"\"}, \"type\": \"mesh3d\"}], \"parcoords\": [{\"line\": {\"colorbar\": {\"outlinewidth\": 0, \"ticks\": \"\"}}, \"type\": \"parcoords\"}], \"pie\": [{\"automargin\": true, \"type\": \"pie\"}], \"scatter\": [{\"marker\": {\"colorbar\": {\"outlinewidth\": 0, \"ticks\": \"\"}}, \"type\": \"scatter\"}], \"scatter3d\": [{\"line\": {\"colorbar\": {\"outlinewidth\": 0, \"ticks\": \"\"}}, \"marker\": {\"colorbar\": {\"outlinewidth\": 0, \"ticks\": \"\"}}, \"type\": \"scatter3d\"}], \"scattercarpet\": [{\"marker\": {\"colorbar\": {\"outlinewidth\": 0, \"ticks\": \"\"}}, \"type\": \"scattercarpet\"}], \"scattergeo\": [{\"marker\": {\"colorbar\": {\"outlinewidth\": 0, \"ticks\": \"\"}}, \"type\": \"scattergeo\"}], \"scattergl\": [{\"marker\": {\"colorbar\": {\"outlinewidth\": 0, \"ticks\": \"\"}}, \"type\": \"scattergl\"}], \"scattermapbox\": [{\"marker\": {\"colorbar\": {\"outlinewidth\": 0, \"ticks\": \"\"}}, \"type\": \"scattermapbox\"}], \"scatterpolar\": [{\"marker\": {\"colorbar\": {\"outlinewidth\": 0, \"ticks\": \"\"}}, \"type\": \"scatterpolar\"}], \"scatterpolargl\": [{\"marker\": {\"colorbar\": {\"outlinewidth\": 0, \"ticks\": \"\"}}, \"type\": \"scatterpolargl\"}], \"scatterternary\": [{\"marker\": {\"colorbar\": {\"outlinewidth\": 0, \"ticks\": \"\"}}, \"type\": \"scatterternary\"}], \"surface\": [{\"colorbar\": {\"outlinewidth\": 0, \"ticks\": \"\"}, \"colorscale\": [[0.0, \"#0d0887\"], [0.1111111111111111, \"#46039f\"], [0.2222222222222222, \"#7201a8\"], [0.3333333333333333, \"#9c179e\"], [0.4444444444444444, \"#bd3786\"], [0.5555555555555556, \"#d8576b\"], [0.6666666666666666, \"#ed7953\"], [0.7777777777777778, \"#fb9f3a\"], [0.8888888888888888, \"#fdca26\"], [1.0, \"#f0f921\"]], \"type\": \"surface\"}], \"table\": [{\"cells\": {\"fill\": {\"color\": \"#EBF0F8\"}, \"line\": {\"color\": \"white\"}}, \"header\": {\"fill\": {\"color\": \"#C8D4E3\"}, \"line\": {\"color\": \"white\"}}, \"type\": \"table\"}]}, \"layout\": {\"annotationdefaults\": {\"arrowcolor\": \"#2a3f5f\", \"arrowhead\": 0, \"arrowwidth\": 1}, \"coloraxis\": {\"colorbar\": {\"outlinewidth\": 0, \"ticks\": \"\"}}, \"colorscale\": {\"diverging\": [[0, \"#8e0152\"], [0.1, \"#c51b7d\"], [0.2, \"#de77ae\"], [0.3, \"#f1b6da\"], [0.4, \"#fde0ef\"], [0.5, \"#f7f7f7\"], [0.6, \"#e6f5d0\"], [0.7, \"#b8e186\"], [0.8, \"#7fbc41\"], [0.9, \"#4d9221\"], [1, \"#276419\"]], \"sequential\": [[0.0, \"#0d0887\"], [0.1111111111111111, \"#46039f\"], [0.2222222222222222, \"#7201a8\"], [0.3333333333333333, \"#9c179e\"], [0.4444444444444444, \"#bd3786\"], [0.5555555555555556, \"#d8576b\"], [0.6666666666666666, \"#ed7953\"], [0.7777777777777778, \"#fb9f3a\"], [0.8888888888888888, \"#fdca26\"], [1.0, \"#f0f921\"]], \"sequentialminus\": [[0.0, \"#0d0887\"], [0.1111111111111111, \"#46039f\"], [0.2222222222222222, \"#7201a8\"], [0.3333333333333333, \"#9c179e\"], [0.4444444444444444, \"#bd3786\"], [0.5555555555555556, \"#d8576b\"], [0.6666666666666666, \"#ed7953\"], [0.7777777777777778, \"#fb9f3a\"], [0.8888888888888888, \"#fdca26\"], [1.0, \"#f0f921\"]]}, \"colorway\": [\"#636efa\", \"#EF553B\", \"#00cc96\", \"#ab63fa\", \"#FFA15A\", \"#19d3f3\", \"#FF6692\", \"#B6E880\", \"#FF97FF\", \"#FECB52\"], \"font\": {\"color\": \"#2a3f5f\"}, \"geo\": {\"bgcolor\": \"white\", \"lakecolor\": \"white\", \"landcolor\": \"#E5ECF6\", \"showlakes\": true, \"showland\": true, \"subunitcolor\": \"white\"}, \"hoverlabel\": {\"align\": \"left\"}, \"hovermode\": \"closest\", \"mapbox\": {\"style\": \"light\"}, \"paper_bgcolor\": \"white\", \"plot_bgcolor\": \"#E5ECF6\", \"polar\": {\"angularaxis\": {\"gridcolor\": \"white\", \"linecolor\": \"white\", \"ticks\": \"\"}, \"bgcolor\": \"#E5ECF6\", \"radialaxis\": {\"gridcolor\": \"white\", \"linecolor\": \"white\", \"ticks\": \"\"}}, \"scene\": {\"xaxis\": {\"backgroundcolor\": \"#E5ECF6\", \"gridcolor\": \"white\", \"gridwidth\": 2, \"linecolor\": \"white\", \"showbackground\": true, \"ticks\": \"\", \"zerolinecolor\": \"white\"}, \"yaxis\": {\"backgroundcolor\": \"#E5ECF6\", \"gridcolor\": \"white\", \"gridwidth\": 2, \"linecolor\": \"white\", \"showbackground\": true, \"ticks\": \"\", \"zerolinecolor\": \"white\"}, \"zaxis\": {\"backgroundcolor\": \"#E5ECF6\", \"gridcolor\": \"white\", \"gridwidth\": 2, \"linecolor\": \"white\", \"showbackground\": true, \"ticks\": \"\", \"zerolinecolor\": \"white\"}}, \"shapedefaults\": {\"line\": {\"color\": \"#2a3f5f\"}}, \"ternary\": {\"aaxis\": {\"gridcolor\": \"white\", \"linecolor\": \"white\", \"ticks\": \"\"}, \"baxis\": {\"gridcolor\": \"white\", \"linecolor\": \"white\", \"ticks\": \"\"}, \"bgcolor\": \"#E5ECF6\", \"caxis\": {\"gridcolor\": \"white\", \"linecolor\": \"white\", \"ticks\": \"\"}}, \"title\": {\"x\": 0.05}, \"xaxis\": {\"automargin\": true, \"gridcolor\": \"white\", \"linecolor\": \"white\", \"ticks\": \"\", \"title\": {\"standoff\": 15}, \"zerolinecolor\": \"white\", \"zerolinewidth\": 2}, \"yaxis\": {\"automargin\": true, \"gridcolor\": \"white\", \"linecolor\": \"white\", \"ticks\": \"\", \"title\": {\"standoff\": 15}, \"zerolinecolor\": \"white\", \"zerolinewidth\": 2}}}, \"title\": {\"text\": \"Segments\"}, \"xaxis\": {\"title\": {\"text\": \"Frequency\"}}, \"yaxis\": {\"title\": {\"text\": \"Monetary\"}}},\n",
              "                        {\"responsive\": true}\n",
              "                    ).then(function(){\n",
              "                            \n",
              "var gd = document.getElementById('ba25ddef-8a00-4219-8eb3-f783a10c6ffc');\n",
              "var x = new MutationObserver(function (mutations, observer) {{\n",
              "        var display = window.getComputedStyle(gd).display;\n",
              "        if (!display || display === 'none') {{\n",
              "            console.log([gd, 'removed!']);\n",
              "            Plotly.purge(gd);\n",
              "            observer.disconnect();\n",
              "        }}\n",
              "}});\n",
              "\n",
              "// Listen for the removal of the full notebook cells\n",
              "var notebookContainer = gd.closest('#notebook-container');\n",
              "if (notebookContainer) {{\n",
              "    x.observe(notebookContainer, {childList: true});\n",
              "}}\n",
              "\n",
              "// Listen for the clearing of the current output cell\n",
              "var outputEl = gd.closest('.output');\n",
              "if (outputEl) {{\n",
              "    x.observe(outputEl, {childList: true});\n",
              "}}\n",
              "\n",
              "                        })\n",
              "                };\n",
              "                \n",
              "            </script>\n",
              "        </div>\n",
              "</body>\n",
              "</html>"
            ]
          },
          "metadata": {
            "tags": []
          }
        },
        {
          "output_type": "display_data",
          "data": {
            "text/html": [
              "<html>\n",
              "<head><meta charset=\"utf-8\" /></head>\n",
              "<body>\n",
              "    <div>\n",
              "            <script src=\"https://cdnjs.cloudflare.com/ajax/libs/mathjax/2.7.5/MathJax.js?config=TeX-AMS-MML_SVG\"></script><script type=\"text/javascript\">if (window.MathJax) {MathJax.Hub.Config({SVG: {font: \"STIX-Web\"}});}</script>\n",
              "                <script type=\"text/javascript\">window.PlotlyConfig = {MathJaxConfig: 'local'};</script>\n",
              "        <script src=\"https://cdn.plot.ly/plotly-latest.min.js\"></script>    \n",
              "            <div id=\"4f2bdbbb-cc90-41ea-b5e1-0c310935b74c\" class=\"plotly-graph-div\" style=\"height:525px; width:100%;\"></div>\n",
              "            <script type=\"text/javascript\">\n",
              "                \n",
              "                    window.PLOTLYENV=window.PLOTLYENV || {};\n",
              "                    \n",
              "                if (document.getElementById(\"4f2bdbbb-cc90-41ea-b5e1-0c310935b74c\")) {\n",
              "                    Plotly.newPlot(\n",
              "                        '4f2bdbbb-cc90-41ea-b5e1-0c310935b74c',\n",
              "                        [{\"marker\": {\"color\": \"blue\", \"line\": {\"width\": 1}, \"opacity\": 0.8, \"size\": 7}, \"mode\": \"markers\", \"name\": \"Bronze\", \"type\": \"scatter\", \"x\": [25, 179, 31, 51, 51, 51, 51, 50, 40, 40, 40, 39, 39, 39, 38, 38, 38, 38, 29, 28, 28, 28, 27, 27, 27], \"y\": [31500000, 28800000, 28980000, 32400000, 41400000, 32200000, 46700000, 40500000, 21420000, 24300000, 31680000, 31660000, 31580000, 16740000, 20160000, 22500000, 20880000, 14400000, 21060000, 16200000, 17460000, 20160000, 32580000, 18540000, 31320000]}, {\"marker\": {\"color\": \"green\", \"line\": {\"width\": 1}, \"opacity\": 0.5, \"size\": 9}, \"mode\": \"markers\", \"name\": \"Silver\", \"type\": \"scatter\", \"x\": [24, 24, 25, 25, 25, 24, 60, 60, 60, 60, 59, 59, 58, 125, 21, 0, 0, 0, 31, 31, 53, 52, 29, 29, 24, 17, 17, 16, 15, 15, 15, 15, 15, 15, 24, 24, 24, 23, 23, 22, 22, 21, 21, 11, 11, 10], \"y\": [15300000, 22500000, 44100000, 34200000, 38700000, 41400000, 50400000, 48600000, 53100000, 45900000, 54000000, 51300000, 54000000, 48600000, 32760000, 31500000, 27000000, 27000000, 58860000, 69300000, 47700000, 45900000, 48600000, 59040000, 31500000, 33120000, 27000000, 19980000, 34020000, 32220000, 25200000, 37620000, 50940000, 50220000, 42300000, 30060000, 51300000, 26280000, 32220000, 52560000, 49500000, 35820000, 35460000, 22300000, 31140000, 34020000]}, {\"marker\": {\"color\": \"red\", \"line\": {\"width\": 1}, \"opacity\": 0.9, \"size\": 11}, \"mode\": \"markers\", \"name\": \"Gold\", \"type\": \"scatter\", \"x\": [24, 24, 24, 60, 59, 21, 21, 20, 20, 19, 42, 41, 41, 41, 41, 41, 41, 40, 40, 40, 1, 0, 33, 33, 33, 32, 32, 32, 31, 15, 14, 14, 14, 14, 14, 52, 51, 51, 7, 18, 12, 11, 10, 9, 9, 9, 8], \"y\": [71100000, 51300000, 39600000, 78300000, 75600000, 44100000, 64440000, 55620000, 74860000, 76040000, 90000000, 68400000, 79000000, 67400000, 92700000, 104400000, 120960000, 100440000, 106560000, 58500000, 74340000, 51300000, 69120000, 57060000, 52020000, 59580000, 90000000, 81000000, 64980000, 54360000, 39600000, 42660000, 56340000, 66060000, 63900000, 75600000, 54900000, 67500000, 43200000, 95040000, 46620000, 35900000, 36540000, 67320000, 43560000, 35460000, 34740000]}, {\"marker\": {\"color\": \"black\", \"line\": {\"width\": 1}, \"opacity\": 0.9, \"size\": 13}, \"mode\": \"markers\", \"name\": \"Platinum\", \"type\": \"scatter\", \"x\": [6, 6, 6, 5, 5, 5, 4, 4, 4, 3, 20, 19, 19, 19, 3, 2, 1, 1, 13, 13, 13, 12, 8, 8, 8, 8, 8, 7, 7, 6, 6, 37, 37, 37, 37, 36, 36, 36, 36, 36, 35, 12], \"y\": [54540000, 100260000, 116820000, 99360000, 68400000, 60300000, 88200000, 95400000, 89100000, 63900000, 92700000, 101880000, 63720000, 88200000, 83340000, 92520000, 63360000, 78840000, 113940000, 81720000, 111060000, 69840000, 71100000, 72900000, 79200000, 78300000, 91800000, 54900000, 67500000, 83700000, 56700000, 125460000, 102420000, 102060000, 98640000, 119880000, 109620000, 99360000, 118440000, 117540000, 100800000, 55440000]}],\n",
              "                        {\"template\": {\"data\": {\"bar\": [{\"error_x\": {\"color\": \"#2a3f5f\"}, \"error_y\": {\"color\": \"#2a3f5f\"}, \"marker\": {\"line\": {\"color\": \"#E5ECF6\", \"width\": 0.5}}, \"type\": \"bar\"}], \"barpolar\": [{\"marker\": {\"line\": {\"color\": \"#E5ECF6\", \"width\": 0.5}}, \"type\": \"barpolar\"}], \"carpet\": [{\"aaxis\": {\"endlinecolor\": \"#2a3f5f\", \"gridcolor\": \"white\", \"linecolor\": \"white\", \"minorgridcolor\": \"white\", \"startlinecolor\": \"#2a3f5f\"}, \"baxis\": {\"endlinecolor\": \"#2a3f5f\", \"gridcolor\": \"white\", \"linecolor\": \"white\", \"minorgridcolor\": \"white\", \"startlinecolor\": \"#2a3f5f\"}, \"type\": \"carpet\"}], \"choropleth\": [{\"colorbar\": {\"outlinewidth\": 0, \"ticks\": \"\"}, \"type\": \"choropleth\"}], \"contour\": [{\"colorbar\": {\"outlinewidth\": 0, \"ticks\": \"\"}, \"colorscale\": [[0.0, \"#0d0887\"], [0.1111111111111111, \"#46039f\"], [0.2222222222222222, \"#7201a8\"], [0.3333333333333333, \"#9c179e\"], [0.4444444444444444, \"#bd3786\"], [0.5555555555555556, \"#d8576b\"], [0.6666666666666666, \"#ed7953\"], [0.7777777777777778, \"#fb9f3a\"], [0.8888888888888888, \"#fdca26\"], [1.0, \"#f0f921\"]], \"type\": \"contour\"}], \"contourcarpet\": [{\"colorbar\": {\"outlinewidth\": 0, \"ticks\": \"\"}, \"type\": \"contourcarpet\"}], \"heatmap\": [{\"colorbar\": {\"outlinewidth\": 0, \"ticks\": \"\"}, \"colorscale\": [[0.0, \"#0d0887\"], [0.1111111111111111, \"#46039f\"], [0.2222222222222222, \"#7201a8\"], [0.3333333333333333, \"#9c179e\"], [0.4444444444444444, \"#bd3786\"], [0.5555555555555556, \"#d8576b\"], [0.6666666666666666, \"#ed7953\"], [0.7777777777777778, \"#fb9f3a\"], [0.8888888888888888, \"#fdca26\"], [1.0, \"#f0f921\"]], \"type\": \"heatmap\"}], \"heatmapgl\": [{\"colorbar\": {\"outlinewidth\": 0, \"ticks\": \"\"}, \"colorscale\": [[0.0, \"#0d0887\"], [0.1111111111111111, \"#46039f\"], [0.2222222222222222, \"#7201a8\"], [0.3333333333333333, \"#9c179e\"], [0.4444444444444444, \"#bd3786\"], [0.5555555555555556, \"#d8576b\"], [0.6666666666666666, \"#ed7953\"], [0.7777777777777778, \"#fb9f3a\"], [0.8888888888888888, \"#fdca26\"], [1.0, \"#f0f921\"]], \"type\": \"heatmapgl\"}], \"histogram\": [{\"marker\": {\"colorbar\": {\"outlinewidth\": 0, \"ticks\": \"\"}}, \"type\": \"histogram\"}], \"histogram2d\": [{\"colorbar\": {\"outlinewidth\": 0, \"ticks\": \"\"}, \"colorscale\": [[0.0, \"#0d0887\"], [0.1111111111111111, \"#46039f\"], [0.2222222222222222, \"#7201a8\"], [0.3333333333333333, \"#9c179e\"], [0.4444444444444444, \"#bd3786\"], [0.5555555555555556, \"#d8576b\"], [0.6666666666666666, \"#ed7953\"], [0.7777777777777778, \"#fb9f3a\"], [0.8888888888888888, \"#fdca26\"], [1.0, \"#f0f921\"]], \"type\": \"histogram2d\"}], \"histogram2dcontour\": [{\"colorbar\": {\"outlinewidth\": 0, \"ticks\": \"\"}, \"colorscale\": [[0.0, \"#0d0887\"], [0.1111111111111111, \"#46039f\"], [0.2222222222222222, \"#7201a8\"], [0.3333333333333333, \"#9c179e\"], [0.4444444444444444, \"#bd3786\"], [0.5555555555555556, \"#d8576b\"], [0.6666666666666666, \"#ed7953\"], [0.7777777777777778, \"#fb9f3a\"], [0.8888888888888888, \"#fdca26\"], [1.0, \"#f0f921\"]], \"type\": \"histogram2dcontour\"}], \"mesh3d\": [{\"colorbar\": {\"outlinewidth\": 0, \"ticks\": \"\"}, \"type\": \"mesh3d\"}], \"parcoords\": [{\"line\": {\"colorbar\": {\"outlinewidth\": 0, \"ticks\": \"\"}}, \"type\": \"parcoords\"}], \"pie\": [{\"automargin\": true, \"type\": \"pie\"}], \"scatter\": [{\"marker\": {\"colorbar\": {\"outlinewidth\": 0, \"ticks\": \"\"}}, \"type\": \"scatter\"}], \"scatter3d\": [{\"line\": {\"colorbar\": {\"outlinewidth\": 0, \"ticks\": \"\"}}, \"marker\": {\"colorbar\": {\"outlinewidth\": 0, \"ticks\": \"\"}}, \"type\": \"scatter3d\"}], \"scattercarpet\": [{\"marker\": {\"colorbar\": {\"outlinewidth\": 0, \"ticks\": \"\"}}, \"type\": \"scattercarpet\"}], \"scattergeo\": [{\"marker\": {\"colorbar\": {\"outlinewidth\": 0, \"ticks\": \"\"}}, \"type\": \"scattergeo\"}], \"scattergl\": [{\"marker\": {\"colorbar\": {\"outlinewidth\": 0, \"ticks\": \"\"}}, \"type\": \"scattergl\"}], \"scattermapbox\": [{\"marker\": {\"colorbar\": {\"outlinewidth\": 0, \"ticks\": \"\"}}, \"type\": \"scattermapbox\"}], \"scatterpolar\": [{\"marker\": {\"colorbar\": {\"outlinewidth\": 0, \"ticks\": \"\"}}, \"type\": \"scatterpolar\"}], \"scatterpolargl\": [{\"marker\": {\"colorbar\": {\"outlinewidth\": 0, \"ticks\": \"\"}}, \"type\": \"scatterpolargl\"}], \"scatterternary\": [{\"marker\": {\"colorbar\": {\"outlinewidth\": 0, \"ticks\": \"\"}}, \"type\": \"scatterternary\"}], \"surface\": [{\"colorbar\": {\"outlinewidth\": 0, \"ticks\": \"\"}, \"colorscale\": [[0.0, \"#0d0887\"], [0.1111111111111111, \"#46039f\"], [0.2222222222222222, \"#7201a8\"], [0.3333333333333333, \"#9c179e\"], [0.4444444444444444, \"#bd3786\"], [0.5555555555555556, \"#d8576b\"], [0.6666666666666666, \"#ed7953\"], [0.7777777777777778, \"#fb9f3a\"], [0.8888888888888888, \"#fdca26\"], [1.0, \"#f0f921\"]], \"type\": \"surface\"}], \"table\": [{\"cells\": {\"fill\": {\"color\": \"#EBF0F8\"}, \"line\": {\"color\": \"white\"}}, \"header\": {\"fill\": {\"color\": \"#C8D4E3\"}, \"line\": {\"color\": \"white\"}}, \"type\": \"table\"}]}, \"layout\": {\"annotationdefaults\": {\"arrowcolor\": \"#2a3f5f\", \"arrowhead\": 0, \"arrowwidth\": 1}, \"coloraxis\": {\"colorbar\": {\"outlinewidth\": 0, \"ticks\": \"\"}}, \"colorscale\": {\"diverging\": [[0, \"#8e0152\"], [0.1, \"#c51b7d\"], [0.2, \"#de77ae\"], [0.3, \"#f1b6da\"], [0.4, \"#fde0ef\"], [0.5, \"#f7f7f7\"], [0.6, \"#e6f5d0\"], [0.7, \"#b8e186\"], [0.8, \"#7fbc41\"], [0.9, \"#4d9221\"], [1, \"#276419\"]], \"sequential\": [[0.0, \"#0d0887\"], [0.1111111111111111, \"#46039f\"], [0.2222222222222222, \"#7201a8\"], [0.3333333333333333, \"#9c179e\"], [0.4444444444444444, \"#bd3786\"], [0.5555555555555556, \"#d8576b\"], [0.6666666666666666, \"#ed7953\"], [0.7777777777777778, \"#fb9f3a\"], [0.8888888888888888, \"#fdca26\"], [1.0, \"#f0f921\"]], \"sequentialminus\": [[0.0, \"#0d0887\"], [0.1111111111111111, \"#46039f\"], [0.2222222222222222, \"#7201a8\"], [0.3333333333333333, \"#9c179e\"], [0.4444444444444444, \"#bd3786\"], [0.5555555555555556, \"#d8576b\"], [0.6666666666666666, \"#ed7953\"], [0.7777777777777778, \"#fb9f3a\"], [0.8888888888888888, \"#fdca26\"], [1.0, \"#f0f921\"]]}, \"colorway\": [\"#636efa\", \"#EF553B\", \"#00cc96\", \"#ab63fa\", \"#FFA15A\", \"#19d3f3\", \"#FF6692\", \"#B6E880\", \"#FF97FF\", \"#FECB52\"], \"font\": {\"color\": \"#2a3f5f\"}, \"geo\": {\"bgcolor\": \"white\", \"lakecolor\": \"white\", \"landcolor\": \"#E5ECF6\", \"showlakes\": true, \"showland\": true, \"subunitcolor\": \"white\"}, \"hoverlabel\": {\"align\": \"left\"}, \"hovermode\": \"closest\", \"mapbox\": {\"style\": \"light\"}, \"paper_bgcolor\": \"white\", \"plot_bgcolor\": \"#E5ECF6\", \"polar\": {\"angularaxis\": {\"gridcolor\": \"white\", \"linecolor\": \"white\", \"ticks\": \"\"}, \"bgcolor\": \"#E5ECF6\", \"radialaxis\": {\"gridcolor\": \"white\", \"linecolor\": \"white\", \"ticks\": \"\"}}, \"scene\": {\"xaxis\": {\"backgroundcolor\": \"#E5ECF6\", \"gridcolor\": \"white\", \"gridwidth\": 2, \"linecolor\": \"white\", \"showbackground\": true, \"ticks\": \"\", \"zerolinecolor\": \"white\"}, \"yaxis\": {\"backgroundcolor\": \"#E5ECF6\", \"gridcolor\": \"white\", \"gridwidth\": 2, \"linecolor\": \"white\", \"showbackground\": true, \"ticks\": \"\", \"zerolinecolor\": \"white\"}, \"zaxis\": {\"backgroundcolor\": \"#E5ECF6\", \"gridcolor\": \"white\", \"gridwidth\": 2, \"linecolor\": \"white\", \"showbackground\": true, \"ticks\": \"\", \"zerolinecolor\": \"white\"}}, \"shapedefaults\": {\"line\": {\"color\": \"#2a3f5f\"}}, \"ternary\": {\"aaxis\": {\"gridcolor\": \"white\", \"linecolor\": \"white\", \"ticks\": \"\"}, \"baxis\": {\"gridcolor\": \"white\", \"linecolor\": \"white\", \"ticks\": \"\"}, \"bgcolor\": \"#E5ECF6\", \"caxis\": {\"gridcolor\": \"white\", \"linecolor\": \"white\", \"ticks\": \"\"}}, \"title\": {\"x\": 0.05}, \"xaxis\": {\"automargin\": true, \"gridcolor\": \"white\", \"linecolor\": \"white\", \"ticks\": \"\", \"title\": {\"standoff\": 15}, \"zerolinecolor\": \"white\", \"zerolinewidth\": 2}, \"yaxis\": {\"automargin\": true, \"gridcolor\": \"white\", \"linecolor\": \"white\", \"ticks\": \"\", \"title\": {\"standoff\": 15}, \"zerolinecolor\": \"white\", \"zerolinewidth\": 2}}}, \"title\": {\"text\": \"Segments\"}, \"xaxis\": {\"title\": {\"text\": \"Recency\"}}, \"yaxis\": {\"title\": {\"text\": \"Monetary\"}}},\n",
              "                        {\"responsive\": true}\n",
              "                    ).then(function(){\n",
              "                            \n",
              "var gd = document.getElementById('4f2bdbbb-cc90-41ea-b5e1-0c310935b74c');\n",
              "var x = new MutationObserver(function (mutations, observer) {{\n",
              "        var display = window.getComputedStyle(gd).display;\n",
              "        if (!display || display === 'none') {{\n",
              "            console.log([gd, 'removed!']);\n",
              "            Plotly.purge(gd);\n",
              "            observer.disconnect();\n",
              "        }}\n",
              "}});\n",
              "\n",
              "// Listen for the removal of the full notebook cells\n",
              "var notebookContainer = gd.closest('#notebook-container');\n",
              "if (notebookContainer) {{\n",
              "    x.observe(notebookContainer, {childList: true});\n",
              "}}\n",
              "\n",
              "// Listen for the clearing of the current output cell\n",
              "var outputEl = gd.closest('.output');\n",
              "if (outputEl) {{\n",
              "    x.observe(outputEl, {childList: true});\n",
              "}}\n",
              "\n",
              "                        })\n",
              "                };\n",
              "                \n",
              "            </script>\n",
              "        </div>\n",
              "</body>\n",
              "</html>"
            ]
          },
          "metadata": {
            "tags": []
          }
        }
      ]
    },
    {
      "cell_type": "code",
      "metadata": {
        "id": "rX71EVnOjmpB"
      },
      "source": [
        "def handle_neg_n_zero(num):\r\n",
        "    if num <= 0:\r\n",
        "        return 1\r\n",
        "    else:\r\n",
        "        return num\r\n",
        "\r\n",
        "RFMScores['Recency'] = [handle_neg_n_zero(x) for x in RFMScores.Recency]\r\n",
        "RFMScores['Monetary'] = [handle_neg_n_zero(x) for x in RFMScores.Monetary]\r\n",
        "\r\n",
        "Log_Tfd_Data = RFMScores[['Recency', 'Frequency', 'Monetary']].apply(np.log, axis = 1).round(3)"
      ],
      "execution_count": null,
      "outputs": []
    },
    {
      "cell_type": "code",
      "metadata": {
        "colab": {
          "base_uri": "https://localhost:8080/",
          "height": 369
        },
        "id": "5jYHHa2ckZ5w",
        "outputId": "1057efc1-f004-4de2-e1ae-f87627ef2336"
      },
      "source": [
        "Recency_Plot = Log_Tfd_Data['Recency']\r\n",
        "ax = sns.distplot(Recency_Plot)\r\n"
      ],
      "execution_count": null,
      "outputs": [
        {
          "output_type": "stream",
          "text": [
            "/usr/local/lib/python3.6/dist-packages/seaborn/distributions.py:2557: FutureWarning:\n",
            "\n",
            "`distplot` is a deprecated function and will be removed in a future version. Please adapt your code to use either `displot` (a figure-level function with similar flexibility) or `histplot` (an axes-level function for histograms).\n",
            "\n"
          ],
          "name": "stderr"
        },
        {
          "output_type": "display_data",
          "data": {
            "image/png": "[encoded data removed]",
            "text/plain": [
              "<Figure size 432x288 with 1 Axes>"
            ]
          },
          "metadata": {
            "tags": []
          }
        }
      ]
    },
    {
      "cell_type": "code",
      "metadata": {
        "colab": {
          "base_uri": "https://localhost:8080/",
          "height": 369
        },
        "id": "yxyujgRPkdOM",
        "outputId": "d5950293-b464-44b3-b2de-94cbdf9c0b03"
      },
      "source": [
        "Monetary_Plot = Log_Tfd_Data.query('Monetary < 100000000')['Monetary']\r\n",
        "ax = sns.distplot(Monetary_Plot)"
      ],
      "execution_count": null,
      "outputs": [
        {
          "output_type": "stream",
          "text": [
            "/usr/local/lib/python3.6/dist-packages/seaborn/distributions.py:2557: FutureWarning:\n",
            "\n",
            "`distplot` is a deprecated function and will be removed in a future version. Please adapt your code to use either `displot` (a figure-level function with similar flexibility) or `histplot` (an axes-level function for histograms).\n",
            "\n"
          ],
          "name": "stderr"
        },
        {
          "output_type": "display_data",
          "data": {
            "image/png": "[encoded data removed]",
            "text/plain": [
              "<Figure size 432x288 with 1 Axes>"
            ]
          },
          "metadata": {
            "tags": []
          }
        }
      ]
    },
    {
      "cell_type": "code",
      "metadata": {
        "colab": {
          "base_uri": "https://localhost:8080/",
          "height": 369
        },
        "id": "7bIkb374kuyc",
        "outputId": "35e3766c-4bb9-4c8b-cb72-ba5cea48d013"
      },
      "source": [
        "Frequency_Plot = Log_Tfd_Data.query('Frequency < 100')['Frequency']\r\n",
        "ax = sns.distplot(Frequency_Plot)"
      ],
      "execution_count": null,
      "outputs": [
        {
          "output_type": "stream",
          "text": [
            "/usr/local/lib/python3.6/dist-packages/seaborn/distributions.py:2557: FutureWarning:\n",
            "\n",
            "`distplot` is a deprecated function and will be removed in a future version. Please adapt your code to use either `displot` (a figure-level function with similar flexibility) or `histplot` (an axes-level function for histograms).\n",
            "\n"
          ],
          "name": "stderr"
        },
        {
          "output_type": "display_data",
          "data": {
            "image/png": "[encoded data removed]",
            "text/plain": [
              "<Figure size 432x288 with 1 Axes>"
            ]
          },
          "metadata": {
            "tags": []
          }
        }
      ]
    },
    {
      "cell_type": "code",
      "metadata": {
        "id": "a5oLEjcHk2U6"
      },
      "source": [
        "from sklearn.preprocessing import StandardScaler\r\n",
        "\r\n",
        "#Bring the data on same scale\r\n",
        "scaleobj = StandardScaler()\r\n",
        "Scaled_Data = scaleobj.fit_transform(Log_Tfd_Data)\r\n",
        "\r\n",
        "#Transform it back to dataframe\r\n",
        "Scaled_Data = pd.DataFrame(Scaled_Data, index = RFMScores.index, columns = Log_Tfd_Data.columns)"
      ],
      "execution_count": null,
      "outputs": []
    },
    {
      "cell_type": "code",
      "metadata": {
        "colab": {
          "base_uri": "https://localhost:8080/",
          "height": 295
        },
        "id": "RF68nLDQk80N",
        "outputId": "6e1ade02-7275-489b-f17c-d692173436a1"
      },
      "source": [
        "from sklearn.cluster import KMeans\r\n",
        "\r\n",
        "sum_of_sq_dist = {}\r\n",
        "for k in range(1,15):\r\n",
        "    km = KMeans(n_clusters= k, init= 'k-means++', max_iter= 1000)\r\n",
        "    km = km.fit(Scaled_Data)\r\n",
        "    sum_of_sq_dist[k] = km.inertia_\r\n",
        "    \r\n",
        "#Plot the graph for the sum of square distance values and Number of Clusters\r\n",
        "sns.pointplot(x = list(sum_of_sq_dist.keys()), y = list(sum_of_sq_dist.values()))\r\n",
        "plt.xlabel('Number of Clusters(k)')\r\n",
        "plt.ylabel('Sum of Square Distances')\r\n",
        "plt.title('Elbow Method For Optimal k')\r\n",
        "plt.show()"
      ],
      "execution_count": null,
      "outputs": [
        {
          "output_type": "display_data",
          "data": {
            "image/png": "[encoded data removed]",
            "text/plain": [
              "<Figure size 432x288 with 1 Axes>"
            ]
          },
          "metadata": {
            "tags": []
          }
        }
      ]
    },
    {
      "cell_type": "code",
      "metadata": {
        "colab": {
          "base_uri": "https://localhost:8080/",
          "height": 233
        },
        "id": "HJGG8rr_k-fX",
        "outputId": "f335cfce-be30-4846-959f-dc4aa844bea8"
      },
      "source": [
        "#Perform K-Mean Clustering or build the K-Means clustering model\r\n",
        "KMean_clust = KMeans(n_clusters= 3, init= 'k-means++', max_iter= 1000)\r\n",
        "KMean_clust.fit(Scaled_Data)\r\n",
        "\r\n",
        "#Find the clusters for the observation given in the dataset\r\n",
        "RFMScores['Cluster'] = KMean_clust.labels_\r\n",
        "RFMScores.head()"
      ],
      "execution_count": null,
      "outputs": [
        {
          "output_type": "execute_result",
          "data": {
            "text/html": [
              "<div>\n",
              "<style scoped>\n",
              "    .dataframe tbody tr th:only-of-type {\n",
              "        vertical-align: middle;\n",
              "    }\n",
              "\n",
              "    .dataframe tbody tr th {\n",
              "        vertical-align: top;\n",
              "    }\n",
              "\n",
              "    .dataframe thead th {\n",
              "        text-align: right;\n",
              "    }\n",
              "</style>\n",
              "<table border=\"1\" class=\"dataframe\">\n",
              "  <thead>\n",
              "    <tr style=\"text-align: right;\">\n",
              "      <th></th>\n",
              "      <th>Recency</th>\n",
              "      <th>Frequency</th>\n",
              "      <th>Monetary</th>\n",
              "      <th>R</th>\n",
              "      <th>F</th>\n",
              "      <th>M</th>\n",
              "      <th>RFMGroup</th>\n",
              "      <th>RFMScore</th>\n",
              "      <th>RFM_Loyalty_Level</th>\n",
              "      <th>Cluster</th>\n",
              "    </tr>\n",
              "    <tr>\n",
              "      <th>CUSTOMER ID</th>\n",
              "      <th></th>\n",
              "      <th></th>\n",
              "      <th></th>\n",
              "      <th></th>\n",
              "      <th></th>\n",
              "      <th></th>\n",
              "      <th></th>\n",
              "      <th></th>\n",
              "      <th></th>\n",
              "      <th></th>\n",
              "    </tr>\n",
              "  </thead>\n",
              "  <tbody>\n",
              "    <tr>\n",
              "      <th>110032</th>\n",
              "      <td>6</td>\n",
              "      <td>7</td>\n",
              "      <td>54540000</td>\n",
              "      <td>1</td>\n",
              "      <td>1</td>\n",
              "      <td>2</td>\n",
              "      <td>112</td>\n",
              "      <td>4</td>\n",
              "      <td>Platinum</td>\n",
              "      <td>0</td>\n",
              "    </tr>\n",
              "    <tr>\n",
              "      <th>110033</th>\n",
              "      <td>6</td>\n",
              "      <td>7</td>\n",
              "      <td>100260000</td>\n",
              "      <td>1</td>\n",
              "      <td>1</td>\n",
              "      <td>1</td>\n",
              "      <td>111</td>\n",
              "      <td>3</td>\n",
              "      <td>Platinum</td>\n",
              "      <td>0</td>\n",
              "    </tr>\n",
              "    <tr>\n",
              "      <th>110034</th>\n",
              "      <td>6</td>\n",
              "      <td>7</td>\n",
              "      <td>116820000</td>\n",
              "      <td>1</td>\n",
              "      <td>1</td>\n",
              "      <td>1</td>\n",
              "      <td>111</td>\n",
              "      <td>3</td>\n",
              "      <td>Platinum</td>\n",
              "      <td>0</td>\n",
              "    </tr>\n",
              "    <tr>\n",
              "      <th>110035</th>\n",
              "      <td>5</td>\n",
              "      <td>7</td>\n",
              "      <td>99360000</td>\n",
              "      <td>1</td>\n",
              "      <td>1</td>\n",
              "      <td>1</td>\n",
              "      <td>111</td>\n",
              "      <td>3</td>\n",
              "      <td>Platinum</td>\n",
              "      <td>0</td>\n",
              "    </tr>\n",
              "    <tr>\n",
              "      <th>110036</th>\n",
              "      <td>5</td>\n",
              "      <td>7</td>\n",
              "      <td>68400000</td>\n",
              "      <td>1</td>\n",
              "      <td>1</td>\n",
              "      <td>2</td>\n",
              "      <td>112</td>\n",
              "      <td>4</td>\n",
              "      <td>Platinum</td>\n",
              "      <td>0</td>\n",
              "    </tr>\n",
              "  </tbody>\n",
              "</table>\n",
              "</div>"
            ],
            "text/plain": [
              "             Recency  Frequency   Monetary  ...  RFMScore  RFM_Loyalty_Level  Cluster\n",
              "CUSTOMER ID                                 ...                                      \n",
              "110032             6          7   54540000  ...         4           Platinum        0\n",
              "110033             6          7  100260000  ...         3           Platinum        0\n",
              "110034             6          7  116820000  ...         3           Platinum        0\n",
              "110035             5          7   99360000  ...         3           Platinum        0\n",
              "110036             5          7   68400000  ...         4           Platinum        0\n",
              "\n",
              "[5 rows x 10 columns]"
            ]
          },
          "metadata": {
            "tags": []
          },
          "execution_count": 41
        }
      ]
    },
    {
      "cell_type": "code",
      "metadata": {
        "colab": {
          "base_uri": "https://localhost:8080/",
          "height": 515
        },
        "id": "p7IEKA7ylDx9",
        "outputId": "079f4ade-13b5-4881-c078-4cde763abc13"
      },
      "source": [
        "  from matplotlib import pyplot as plt\r\n",
        "plt.figure(figsize=(7,7))\r\n",
        "\r\n",
        "##Scatter Plot Frequency Vs Recency\r\n",
        "Colors = [\"red\", \"green\", \"blue\"]\r\n",
        "RFMScores['Color'] = RFMScores['Cluster'].map(lambda p: Colors[p])\r\n",
        "ax = RFMScores.plot(    \r\n",
        "    kind=\"scatter\", \r\n",
        "    x=\"Monetary\", y=\"Recency\",\r\n",
        "    figsize=(10,8),\r\n",
        "    c = RFMScores['Color']\r\n",
        ")"
      ],
      "execution_count": null,
      "outputs": [
        {
          "output_type": "display_data",
          "data": {
            "text/plain": [
              "<Figure size 504x504 with 0 Axes>"
            ]
          },
          "metadata": {
            "tags": []
          }
        },
        {
          "output_type": "display_data",
          "data": {
            "image/png": "[encoded data removed]",
            "text/plain": [
              "<Figure size 720x576 with 1 Axes>"
            ]
          },
          "metadata": {
            "tags": []
          }
        }
      ]
    },
    {
      "cell_type": "code",
      "metadata": {
        "colab": {
          "base_uri": "https://localhost:8080/",
          "height": 515
        },
        "id": "zcnq2aMzlzsE",
        "outputId": "2bc4f5fb-6ced-41b4-a1ab-f8580b222627"
      },
      "source": [
        "from matplotlib import pyplot as plt\r\n",
        "plt.figure(figsize=(7,7))\r\n",
        "\r\n",
        "##Scatter Plot Frequency Vs Recency\r\n",
        "Colors = [\"red\", \"green\", \"blue\"]\r\n",
        "RFMScores['Color'] = RFMScores['Cluster'].map(lambda p: Colors[p])\r\n",
        "ax = RFMScores.plot(    \r\n",
        "    kind=\"scatter\", \r\n",
        "    x=\"Frequency\", y=\"Recency\",\r\n",
        "    figsize=(10,8),\r\n",
        "    c = RFMScores['Color']\r\n",
        ")"
      ],
      "execution_count": null,
      "outputs": [
        {
          "output_type": "display_data",
          "data": {
            "text/plain": [
              "<Figure size 504x504 with 0 Axes>"
            ]
          },
          "metadata": {
            "tags": []
          }
        },
        {
          "output_type": "display_data",
          "data": {
            "image/png": "[encoded data removed]",
            "text/plain": [
              "<Figure size 720x576 with 1 Axes>"
            ]
          },
          "metadata": {
            "tags": []
          }
        }
      ]
    },
    {
      "cell_type": "code",
      "metadata": {
        "colab": {
          "base_uri": "https://localhost:8080/",
          "height": 515
        },
        "id": "mtFlJ72nl2qW",
        "outputId": "784fc3c3-8f78-424c-952c-9db36a83b7b0"
      },
      "source": [
        "from matplotlib import pyplot as plt\r\n",
        "plt.figure(figsize=(7,7))\r\n",
        "\r\n",
        "##Scatter Plot Frequency Vs Recency\r\n",
        "Colors = [\"red\", \"green\", \"blue\"]\r\n",
        "RFMScores['Color'] = RFMScores['Cluster'].map(lambda p: Colors[p])\r\n",
        "ax = RFMScores.plot(    \r\n",
        "    kind=\"scatter\", \r\n",
        "    x=\"Monetary\", y=\"Frequency\",\r\n",
        "    figsize=(10,8),\r\n",
        "    c = RFMScores['Color']\r\n",
        ")"
      ],
      "execution_count": 51,
      "outputs": [
        {
          "output_type": "display_data",
          "data": {
            "text/plain": [
              "<Figure size 504x504 with 0 Axes>"
            ]
          },
          "metadata": {
            "tags": []
          }
        },
        {
          "output_type": "display_data",
          "data": {
            "image/png": "[encoded data removed]",
            "text/plain": [
              "<Figure size 720x576 with 1 Axes>"
            ]
          },
          "metadata": {
            "tags": [],
            "needs_background": "light"
          }
        }
      ]
    },
    {
      "cell_type": "code",
      "metadata": {
        "colab": {
          "base_uri": "https://localhost:8080/",
          "height": 233
        },
        "id": "2u2XUYublHxU",
        "outputId": "de76a8dc-3e15-4cc0-b9ed-9199f3e795ad"
      },
      "source": [
        "RFMScores.head()"
      ],
      "execution_count": null,
      "outputs": [
        {
          "output_type": "execute_result",
          "data": {
            "text/html": [
              "<div>\n",
              "<style scoped>\n",
              "    .dataframe tbody tr th:only-of-type {\n",
              "        vertical-align: middle;\n",
              "    }\n",
              "\n",
              "    .dataframe tbody tr th {\n",
              "        vertical-align: top;\n",
              "    }\n",
              "\n",
              "    .dataframe thead th {\n",
              "        text-align: right;\n",
              "    }\n",
              "</style>\n",
              "<table border=\"1\" class=\"dataframe\">\n",
              "  <thead>\n",
              "    <tr style=\"text-align: right;\">\n",
              "      <th></th>\n",
              "      <th>Recency</th>\n",
              "      <th>Frequency</th>\n",
              "      <th>Monetary</th>\n",
              "      <th>R</th>\n",
              "      <th>F</th>\n",
              "      <th>M</th>\n",
              "      <th>RFMGroup</th>\n",
              "      <th>RFMScore</th>\n",
              "      <th>RFM_Loyalty_Level</th>\n",
              "      <th>Cluster</th>\n",
              "      <th>Color</th>\n",
              "    </tr>\n",
              "    <tr>\n",
              "      <th>CUSTOMER ID</th>\n",
              "      <th></th>\n",
              "      <th></th>\n",
              "      <th></th>\n",
              "      <th></th>\n",
              "      <th></th>\n",
              "      <th></th>\n",
              "      <th></th>\n",
              "      <th></th>\n",
              "      <th></th>\n",
              "      <th></th>\n",
              "      <th></th>\n",
              "    </tr>\n",
              "  </thead>\n",
              "  <tbody>\n",
              "    <tr>\n",
              "      <th>110032</th>\n",
              "      <td>6</td>\n",
              "      <td>7</td>\n",
              "      <td>54540000</td>\n",
              "      <td>1</td>\n",
              "      <td>1</td>\n",
              "      <td>2</td>\n",
              "      <td>112</td>\n",
              "      <td>4</td>\n",
              "      <td>Platinum</td>\n",
              "      <td>0</td>\n",
              "      <td>red</td>\n",
              "    </tr>\n",
              "    <tr>\n",
              "      <th>110033</th>\n",
              "      <td>6</td>\n",
              "      <td>7</td>\n",
              "      <td>100260000</td>\n",
              "      <td>1</td>\n",
              "      <td>1</td>\n",
              "      <td>1</td>\n",
              "      <td>111</td>\n",
              "      <td>3</td>\n",
              "      <td>Platinum</td>\n",
              "      <td>0</td>\n",
              "      <td>red</td>\n",
              "    </tr>\n",
              "    <tr>\n",
              "      <th>110034</th>\n",
              "      <td>6</td>\n",
              "      <td>7</td>\n",
              "      <td>116820000</td>\n",
              "      <td>1</td>\n",
              "      <td>1</td>\n",
              "      <td>1</td>\n",
              "      <td>111</td>\n",
              "      <td>3</td>\n",
              "      <td>Platinum</td>\n",
              "      <td>0</td>\n",
              "      <td>red</td>\n",
              "    </tr>\n",
              "    <tr>\n",
              "      <th>110035</th>\n",
              "      <td>5</td>\n",
              "      <td>7</td>\n",
              "      <td>99360000</td>\n",
              "      <td>1</td>\n",
              "      <td>1</td>\n",
              "      <td>1</td>\n",
              "      <td>111</td>\n",
              "      <td>3</td>\n",
              "      <td>Platinum</td>\n",
              "      <td>0</td>\n",
              "      <td>red</td>\n",
              "    </tr>\n",
              "    <tr>\n",
              "      <th>110036</th>\n",
              "      <td>5</td>\n",
              "      <td>7</td>\n",
              "      <td>68400000</td>\n",
              "      <td>1</td>\n",
              "      <td>1</td>\n",
              "      <td>2</td>\n",
              "      <td>112</td>\n",
              "      <td>4</td>\n",
              "      <td>Platinum</td>\n",
              "      <td>0</td>\n",
              "      <td>red</td>\n",
              "    </tr>\n",
              "  </tbody>\n",
              "</table>\n",
              "</div>"
            ],
            "text/plain": [
              "             Recency  Frequency   Monetary  ...  RFM_Loyalty_Level  Cluster  Color\n",
              "CUSTOMER ID                                 ...                                   \n",
              "110032             6          7   54540000  ...           Platinum        0    red\n",
              "110033             6          7  100260000  ...           Platinum        0    red\n",
              "110034             6          7  116820000  ...           Platinum        0    red\n",
              "110035             5          7   99360000  ...           Platinum        0    red\n",
              "110036             5          7   68400000  ...           Platinum        0    red\n",
              "\n",
              "[5 rows x 11 columns]"
            ]
          },
          "metadata": {
            "tags": []
          },
          "execution_count": 43
        }
      ]
    },
    {
      "cell_type": "code",
      "metadata": {
        "id": "ijyoDCZclKKT"
      },
      "source": [
        ""
      ],
      "execution_count": null,
      "outputs": []
    }
  ]
}