{
  "nbformat": 4,
  "nbformat_minor": 0,
  "metadata": {
    "colab": {
      "name": "Final_Project.ipynb",
      "provenance": [],
      "toc_visible": true
    },
    "kernelspec": {
      "name": "python3",
      "display_name": "Python 3"
    },
    "accelerator": "GPU"
  },
  "cells": [
    {
      "cell_type": "code",
      "metadata": {
        "id": "5ABQcbvwU7TL",
        "colab_type": "code",
        "colab": {
          "base_uri": "https://localhost:8080/",
          "height": 55
        },
        "outputId": "b09ab836-1e27-4e8d-93b9-bb8d496251f9"
      },
      "source": [
        "from google.colab import drive\n",
        "drive.mount('/content/drive')"
      ],
      "execution_count": null,
      "outputs": [
        {
          "output_type": "stream",
          "text": [
            "Drive already mounted at /content/drive; to attempt to forcibly remount, call drive.mount(\"/content/drive\", force_remount=True).\n"
          ],
          "name": "stdout"
        }
      ]
    },
    {
      "cell_type": "code",
      "metadata": {
        "id": "USlZlkD0WRYA",
        "colab_type": "code",
        "colab": {}
      },
      "source": [
        "import cv2\n",
        "loc = '/content/drive/My Drive/dataset'"
      ],
      "execution_count": null,
      "outputs": []
    },
    {
      "cell_type": "code",
      "metadata": {
        "id": "NnZ3DWeOWnxT",
        "colab_type": "code",
        "colab": {}
      },
      "source": [
        "import os\n",
        "label = []\n",
        "for i in os.listdir(loc):\n",
        "  if(i.split('.')[0]== 'cat'):\n",
        "    label.append(0)\n",
        "  else:\n",
        "    label.append(1)"
      ],
      "execution_count": null,
      "outputs": []
    },
    {
      "cell_type": "code",
      "metadata": {
        "id": "mcTKjkyEYGft",
        "colab_type": "code",
        "colab": {
          "base_uri": "https://localhost:8080/",
          "height": 280
        },
        "outputId": "6aeb282d-04b9-4f00-d6f0-a4f2b355c9fc"
      },
      "source": [
        "import pandas as pd\n",
        "import matplotlib.pyplot as plt\n",
        "label = pd.DataFrame(label)\n",
        "label[0].value_counts().plot.bar()\n"
      ],
      "execution_count": null,
      "outputs": [
        {
          "output_type": "execute_result",
          "data": {
            "text/plain": [
              "<matplotlib.axes._subplots.AxesSubplot at 0x7f0d0f5f0630>"
            ]
          },
          "metadata": {
            "tags": []
          },
          "execution_count": 5
        },
        {
          "output_type": "display_data",
          "data": {
            "image/png": "[encoded data removed]",
            "text/plain": [
              "<Figure size 432x288 with 1 Axes>"
            ]
          },
          "metadata": {
            "tags": [],
            "needs_background": "light"
          }
        }
      ]
    },
    {
      "cell_type": "code",
      "metadata": {
        "id": "0Jzf36V1bFyA",
        "colab_type": "code",
        "colab": {
          "base_uri": "https://localhost:8080/",
          "height": 35
        },
        "outputId": "f7f023aa-0d94-4aa8-e1c4-5c0c72859df1"
      },
      "source": [
        "label.shape"
      ],
      "execution_count": null,
      "outputs": [
        {
          "output_type": "execute_result",
          "data": {
            "text/plain": [
              "(10028, 1)"
            ]
          },
          "metadata": {
            "tags": []
          },
          "execution_count": 6
        }
      ]
    },
    {
      "cell_type": "code",
      "metadata": {
        "id": "E1fHo06uXXD3",
        "colab_type": "code",
        "colab": {
          "base_uri": "https://localhost:8080/",
          "height": 35
        },
        "outputId": "9b3cc3f6-92a1-463a-8fb6-9ac2686c49e4"
      },
      "source": [
        "from tqdm import tqdm\n",
        "features = []\n",
        "for i in tqdm(os.listdir(loc)):\n",
        "  path = os.path.join(loc,i)\n",
        "  f = cv2.imread(path)\n",
        "  fr = cv2.resize(f,(70,70))\n",
        "  features.append(fr)"
      ],
      "execution_count": null,
      "outputs": [
        {
          "output_type": "stream",
          "text": [
            "100%|██████████| 10028/10028 [01:15<00:00, 131.98it/s]\n"
          ],
          "name": "stderr"
        }
      ]
    },
    {
      "cell_type": "code",
      "metadata": {
        "id": "fm0jP9Koc4yc",
        "colab_type": "code",
        "colab": {}
      },
      "source": [
        " import numpy as np\n",
        "X = np.array(features)\n",
        "Y = np.array(label)"
      ],
      "execution_count": null,
      "outputs": []
    },
    {
      "cell_type": "code",
      "metadata": {
        "id": "KW1JkDFFcT5J",
        "colab_type": "code",
        "colab": {
          "base_uri": "https://localhost:8080/",
          "height": 35
        },
        "outputId": "29c1ce6b-7b25-4276-d85a-03fba63ff837"
      },
      "source": [
        "X.shape"
      ],
      "execution_count": null,
      "outputs": [
        {
          "output_type": "execute_result",
          "data": {
            "text/plain": [
              "(10028, 70, 70, 3)"
            ]
          },
          "metadata": {
            "tags": []
          },
          "execution_count": 9
        }
      ]
    },
    {
      "cell_type": "code",
      "metadata": {
        "id": "l1jQFFzZyfug",
        "colab_type": "code",
        "colab": {}
      },
      "source": [
        "Xt = X.reshape(10028,14700)"
      ],
      "execution_count": null,
      "outputs": []
    },
    {
      "cell_type": "code",
      "metadata": {
        "id": "rQp7z8IjyM7M",
        "colab_type": "code",
        "colab": {}
      },
      "source": [
        "import pandas as pd\n",
        "pd.DataFrame(Xt).to_csv('cat_dog.csv')"
      ],
      "execution_count": null,
      "outputs": []
    },
    {
      "cell_type": "code",
      "metadata": {
        "id": "FKQ-afJ1yRdw",
        "colab_type": "code",
        "colab": {}
      },
      "source": [
        "Xt = Xt/Xt.max()"
      ],
      "execution_count": null,
      "outputs": []
    },
    {
      "cell_type": "code",
      "metadata": {
        "id": "XVQTBZE50uZf",
        "colab_type": "code",
        "colab": {
          "base_uri": "https://localhost:8080/",
          "height": 35
        },
        "outputId": "8b86606f-4188-4254-d9a7-4c0c7d85352d"
      },
      "source": [
        "Xt.shape[1]"
      ],
      "execution_count": null,
      "outputs": [
        {
          "output_type": "execute_result",
          "data": {
            "text/plain": [
              "14700"
            ]
          },
          "metadata": {
            "tags": []
          },
          "execution_count": 198
        }
      ]
    },
    {
      "cell_type": "code",
      "metadata": {
        "id": "EvTq3ovp1A70",
        "colab_type": "code",
        "colab": {}
      },
      "source": [
        "import keras\n",
        "from keras import layers\n",
        "from keras.utils import to_categorical\n"
      ],
      "execution_count": null,
      "outputs": []
    },
    {
      "cell_type": "code",
      "metadata": {
        "id": "UWwL1B5S1EKE",
        "colab_type": "code",
        "colab": {}
      },
      "source": [
        "model = keras.Sequential()\n",
        "model.add(layers.Dense(200, activation = 'relu' , input_dim = Xt.shape[1]))\n",
        "model.add(layers.Dense(100 , activation = 'relu'))\n",
        "model.add(layers.Dense(2, activation = 'softmax'))"
      ],
      "execution_count": null,
      "outputs": []
    },
    {
      "cell_type": "code",
      "metadata": {
        "id": "bfQiTBok1HoY",
        "colab_type": "code",
        "colab": {}
      },
      "source": [
        "Yt = to_categorical(Y)"
      ],
      "execution_count": null,
      "outputs": []
    },
    {
      "cell_type": "code",
      "metadata": {
        "id": "kisQfBL42KpA",
        "colab_type": "code",
        "colab": {
          "base_uri": "https://localhost:8080/",
          "height": 145
        },
        "outputId": "16841f94-9bcb-456e-be9a-d0f543e84342"
      },
      "source": [
        "Yt"
      ],
      "execution_count": null,
      "outputs": [
        {
          "output_type": "execute_result",
          "data": {
            "text/plain": [
              "array([[1., 0.],\n",
              "       [1., 0.],\n",
              "       [1., 0.],\n",
              "       ...,\n",
              "       [0., 1.],\n",
              "       [0., 1.],\n",
              "       [0., 1.]], dtype=float32)"
            ]
          },
          "metadata": {
            "tags": []
          },
          "execution_count": 202
        }
      ]
    },
    {
      "cell_type": "code",
      "metadata": {
        "id": "gnedZnl51KzU",
        "colab_type": "code",
        "colab": {}
      },
      "source": [
        "pd.DataFrame(Yt).to_csv('cat_dog_labels.csv')\n"
      ],
      "execution_count": null,
      "outputs": []
    },
    {
      "cell_type": "code",
      "metadata": {
        "id": "Z6hal-jm1O8J",
        "colab_type": "code",
        "colab": {
          "base_uri": "https://localhost:8080/",
          "height": 272
        },
        "outputId": "fedbec70-047e-4f6c-a55d-12daee0323da"
      },
      "source": [
        "model.summary()"
      ],
      "execution_count": null,
      "outputs": [
        {
          "output_type": "stream",
          "text": [
            "Model: \"sequential_20\"\n",
            "_________________________________________________________________\n",
            "Layer (type)                 Output Shape              Param #   \n",
            "=================================================================\n",
            "dense_45 (Dense)             (None, 200)               2940200   \n",
            "_________________________________________________________________\n",
            "dense_46 (Dense)             (None, 100)               20100     \n",
            "_________________________________________________________________\n",
            "dense_47 (Dense)             (None, 2)                 202       \n",
            "=================================================================\n",
            "Total params: 2,960,502\n",
            "Trainable params: 2,960,502\n",
            "Non-trainable params: 0\n",
            "_________________________________________________________________\n"
          ],
          "name": "stdout"
        }
      ]
    },
    {
      "cell_type": "code",
      "metadata": {
        "id": "VcLfAoZs1o19",
        "colab_type": "code",
        "colab": {}
      },
      "source": [
        "model.compile(optimizer='sgd', loss='categorical_crossentropy',\n",
        "              metrics = ['accuracy'])"
      ],
      "execution_count": null,
      "outputs": []
    },
    {
      "cell_type": "code",
      "metadata": {
        "id": "1Iq5oYnF1tHS",
        "colab_type": "code",
        "colab": {}
      },
      "source": [
        "from sklearn.model_selection import train_test_split\n",
        "xtrain,xtest,ytrain,ytest = train_test_split(Xt,Yt,test_size=0.1)"
      ],
      "execution_count": null,
      "outputs": []
    },
    {
      "cell_type": "code",
      "metadata": {
        "id": "0yY_G9hy2BLL",
        "colab_type": "code",
        "colab": {
          "base_uri": "https://localhost:8080/",
          "height": 35
        },
        "outputId": "1eec265f-05f1-44bd-96ac-415e2bc9b7e0"
      },
      "source": [
        "xtrain.shape"
      ],
      "execution_count": null,
      "outputs": [
        {
          "output_type": "execute_result",
          "data": {
            "text/plain": [
              "(9025, 14700)"
            ]
          },
          "metadata": {
            "tags": []
          },
          "execution_count": 207
        }
      ]
    },
    {
      "cell_type": "code",
      "metadata": {
        "id": "vBszi5L42FBY",
        "colab_type": "code",
        "colab": {
          "base_uri": "https://localhost:8080/",
          "height": 35
        },
        "outputId": "98ed0cd7-eb45-4493-d1c1-e12fb911ec55"
      },
      "source": [
        "ytrain.shape"
      ],
      "execution_count": null,
      "outputs": [
        {
          "output_type": "execute_result",
          "data": {
            "text/plain": [
              "(9025, 2)"
            ]
          },
          "metadata": {
            "tags": []
          },
          "execution_count": 208
        }
      ]
    },
    {
      "cell_type": "code",
      "metadata": {
        "id": "tRWDWnaZ1wEl",
        "colab_type": "code",
        "colab": {
          "base_uri": "https://localhost:8080/",
          "height": 1000
        },
        "outputId": "c7f5bcef-64af-40c6-a668-da2e200a5dcf"
      },
      "source": [
        "model.fit(xtrain,ytrain,epochs=30)"
      ],
      "execution_count": null,
      "outputs": [
        {
          "output_type": "stream",
          "text": [
            "Epoch 1/30\n",
            "9025/9025 [==============================] - 2s 207us/step - loss: 0.6908 - accuracy: 0.5532\n",
            "Epoch 2/30\n",
            "9025/9025 [==============================] - 2s 200us/step - loss: 0.6678 - accuracy: 0.5905\n",
            "Epoch 3/30\n",
            "9025/9025 [==============================] - 2s 201us/step - loss: 0.6671 - accuracy: 0.5893\n",
            "Epoch 4/30\n",
            "9025/9025 [==============================] - 2s 203us/step - loss: 0.6541 - accuracy: 0.6152\n",
            "Epoch 5/30\n",
            "9025/9025 [==============================] - 2s 203us/step - loss: 0.6518 - accuracy: 0.6146\n",
            "Epoch 6/30\n",
            "9025/9025 [==============================] - 2s 200us/step - loss: 0.6401 - accuracy: 0.6317\n",
            "Epoch 7/30\n",
            "9025/9025 [==============================] - 2s 201us/step - loss: 0.6387 - accuracy: 0.6356\n",
            "Epoch 8/30\n",
            "9025/9025 [==============================] - 2s 204us/step - loss: 0.6383 - accuracy: 0.6306\n",
            "Epoch 9/30\n",
            "9025/9025 [==============================] - 2s 200us/step - loss: 0.6248 - accuracy: 0.6474\n",
            "Epoch 10/30\n",
            "9025/9025 [==============================] - 2s 200us/step - loss: 0.6165 - accuracy: 0.6584\n",
            "Epoch 11/30\n",
            "9025/9025 [==============================] - 2s 199us/step - loss: 0.6121 - accuracy: 0.6632\n",
            "Epoch 12/30\n",
            "9025/9025 [==============================] - 2s 199us/step - loss: 0.6119 - accuracy: 0.6577\n",
            "Epoch 13/30\n",
            "9025/9025 [==============================] - 2s 199us/step - loss: 0.6013 - accuracy: 0.6720\n",
            "Epoch 14/30\n",
            "9025/9025 [==============================] - 2s 202us/step - loss: 0.5978 - accuracy: 0.6811\n",
            "Epoch 15/30\n",
            "9025/9025 [==============================] - 2s 203us/step - loss: 0.5960 - accuracy: 0.6766\n",
            "Epoch 16/30\n",
            "9025/9025 [==============================] - 2s 203us/step - loss: 0.5905 - accuracy: 0.6824\n",
            "Epoch 17/30\n",
            "9025/9025 [==============================] - 2s 199us/step - loss: 0.5800 - accuracy: 0.6971\n",
            "Epoch 18/30\n",
            "9025/9025 [==============================] - 2s 199us/step - loss: 0.5749 - accuracy: 0.6941\n",
            "Epoch 19/30\n",
            "9025/9025 [==============================] - 2s 200us/step - loss: 0.5667 - accuracy: 0.7074\n",
            "Epoch 20/30\n",
            "9025/9025 [==============================] - 2s 199us/step - loss: 0.5595 - accuracy: 0.7121\n",
            "Epoch 21/30\n",
            "9025/9025 [==============================] - 2s 203us/step - loss: 0.5596 - accuracy: 0.7116\n",
            "Epoch 22/30\n",
            "9025/9025 [==============================] - 2s 204us/step - loss: 0.5448 - accuracy: 0.7140\n",
            "Epoch 23/30\n",
            "9025/9025 [==============================] - 2s 205us/step - loss: 0.5540 - accuracy: 0.7121\n",
            "Epoch 24/30\n",
            "9025/9025 [==============================] - 2s 203us/step - loss: 0.5381 - accuracy: 0.7227\n",
            "Epoch 25/30\n",
            "9025/9025 [==============================] - 2s 201us/step - loss: 0.5640 - accuracy: 0.7089\n",
            "Epoch 26/30\n",
            "9025/9025 [==============================] - 2s 202us/step - loss: 0.5497 - accuracy: 0.7176\n",
            "Epoch 27/30\n",
            "9025/9025 [==============================] - 2s 204us/step - loss: 0.5322 - accuracy: 0.7331\n",
            "Epoch 28/30\n",
            "9025/9025 [==============================] - 2s 199us/step - loss: 0.5407 - accuracy: 0.7240\n",
            "Epoch 29/30\n",
            "9025/9025 [==============================] - 2s 204us/step - loss: 0.5430 - accuracy: 0.7227\n",
            "Epoch 30/30\n",
            "9025/9025 [==============================] - 2s 204us/step - loss: 0.5432 - accuracy: 0.7288\n"
          ],
          "name": "stdout"
        },
        {
          "output_type": "execute_result",
          "data": {
            "text/plain": [
              "<keras.callbacks.callbacks.History at 0x7f0c6c7f4be0>"
            ]
          },
          "metadata": {
            "tags": []
          },
          "execution_count": 209
        }
      ]
    },
    {
      "cell_type": "code",
      "metadata": {
        "id": "2TSrVFUk1zOM",
        "colab_type": "code",
        "colab": {
          "base_uri": "https://localhost:8080/",
          "height": 54
        },
        "outputId": "ec12a241-01a2-4f14-c1b6-7304d25e4fb5"
      },
      "source": [
        "model.evaluate(xtest,ytest)"
      ],
      "execution_count": null,
      "outputs": [
        {
          "output_type": "stream",
          "text": [
            "1003/1003 [==============================] - 0s 167us/step\n"
          ],
          "name": "stdout"
        },
        {
          "output_type": "execute_result",
          "data": {
            "text/plain": [
              "[0.9925799842845883, 0.5503489375114441]"
            ]
          },
          "metadata": {
            "tags": []
          },
          "execution_count": 210
        }
      ]
    },
    {
      "cell_type": "code",
      "metadata": {
        "id": "3txKR8PR9rl2",
        "colab_type": "code",
        "colab": {}
      },
      "source": [
        "model.save('cat_dog_classifier.h5')"
      ],
      "execution_count": null,
      "outputs": []
    }
  ]
}